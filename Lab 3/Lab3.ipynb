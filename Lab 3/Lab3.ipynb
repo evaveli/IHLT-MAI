{
  "nbformat": 4,
  "nbformat_minor": 0,
  "metadata": {
    "colab": {
      "provenance": [],
      "toc_visible": true
    },
    "kernelspec": {
      "name": "python3",
      "display_name": "Python 3"
    },
    "language_info": {
      "name": "python"
    }
  },
  "cells": [
    {
      "cell_type": "code",
      "execution_count": null,
      "metadata": {
        "colab": {
          "base_uri": "https://localhost:8080/"
        },
        "id": "Xxox6gZWRkMt",
        "outputId": "c2dedf3b-7295-4388-a8af-2611304c247b"
      },
      "outputs": [
        {
          "output_type": "stream",
          "name": "stdout",
          "text": [
            "Requirement already satisfied: contractions in /usr/local/lib/python3.10/dist-packages (0.1.73)\n",
            "Requirement already satisfied: textsearch>=0.0.21 in /usr/local/lib/python3.10/dist-packages (from contractions) (0.0.24)\n",
            "Requirement already satisfied: anyascii in /usr/local/lib/python3.10/dist-packages (from textsearch>=0.0.21->contractions) (0.3.2)\n",
            "Requirement already satisfied: pyahocorasick in /usr/local/lib/python3.10/dist-packages (from textsearch>=0.0.21->contractions) (2.1.0)\n"
          ]
        }
      ],
      "source": [
        "!pip install contractions"
      ]
    },
    {
      "cell_type": "markdown",
      "source": [
        "Please note that the comparison between our previous results and lemmatization is at the end ( Step 9), below you can see some additional experiments that we conducted."
      ],
      "metadata": {
        "id": "O_Sp6rhfdhha"
      }
    },
    {
      "cell_type": "markdown",
      "source": [
        "## **Step 1: Importing libraries**"
      ],
      "metadata": {
        "id": "1JyxG1DhRtYx"
      }
    },
    {
      "cell_type": "code",
      "source": [
        "import pandas as pd\n",
        "import nltk\n",
        "from nltk.metrics import jaccard_distance\n",
        "from nltk.tokenize import word_tokenize\n",
        "from scipy.stats import pearsonr\n",
        "import contractions\n",
        "from nltk.corpus import wordnet\n",
        "from nltk.stem import WordNetLemmatizer\n",
        "import string\n",
        "from nltk.corpus import stopwords\n",
        "\n",
        "\n",
        "nltk.download('stopwords')\n",
        "nltk.download('punkt')\n",
        "nltk.download('wordnet')\n",
        "nltk.download('omw-1.4')\n",
        "nltk.download('averaged_perceptron_tagger')"
      ],
      "metadata": {
        "colab": {
          "base_uri": "https://localhost:8080/"
        },
        "id": "_sXZh9O_Rn-v",
        "outputId": "19081b5d-2715-4509-9966-d829403dd576"
      },
      "execution_count": null,
      "outputs": [
        {
          "output_type": "stream",
          "name": "stderr",
          "text": [
            "[nltk_data] Downloading package stopwords to /root/nltk_data...\n",
            "[nltk_data]   Package stopwords is already up-to-date!\n",
            "[nltk_data] Downloading package punkt to /root/nltk_data...\n",
            "[nltk_data]   Package punkt is already up-to-date!\n",
            "[nltk_data] Downloading package wordnet to /root/nltk_data...\n",
            "[nltk_data]   Package wordnet is already up-to-date!\n",
            "[nltk_data] Downloading package omw-1.4 to /root/nltk_data...\n",
            "[nltk_data]   Package omw-1.4 is already up-to-date!\n",
            "[nltk_data] Downloading package averaged_perceptron_tagger to\n",
            "[nltk_data]     /root/nltk_data...\n",
            "[nltk_data]   Package averaged_perceptron_tagger is already up-to-\n",
            "[nltk_data]       date!\n"
          ]
        },
        {
          "output_type": "execute_result",
          "data": {
            "text/plain": [
              "True"
            ]
          },
          "metadata": {},
          "execution_count": 2
        }
      ]
    },
    {
      "cell_type": "markdown",
      "source": [
        "## **Step 2: Reading the data and adding the golden score**"
      ],
      "metadata": {
        "id": "Zxof3cKFR3Od"
      }
    },
    {
      "cell_type": "code",
      "source": [
        "#Reading the file and assign it to a dataframe\n",
        "dt = pd.read_csv('STS.input.SMTeuroparl.txt',sep='\\t',header=None)"
      ],
      "metadata": {
        "id": "yXReTeDIRo1e"
      },
      "execution_count": null,
      "outputs": []
    },
    {
      "cell_type": "code",
      "source": [
        "#Adding gold standard values into a column in the dataframe called gs\n",
        "dt['gs'] = pd.read_csv('STS.gs.SMTeuroparl.txt',sep='\\t',header=None)"
      ],
      "metadata": {
        "id": "8LJUpmCiSEX2"
      },
      "execution_count": null,
      "outputs": []
    },
    {
      "cell_type": "code",
      "source": [
        "# Normalize the gold standard scores (assuming they are on a scale from 0 to 5)\n",
        "dt['gs_normalized'] = dt['gs']/5"
      ],
      "metadata": {
        "id": "IVvLRe-vcupE"
      },
      "execution_count": null,
      "outputs": []
    },
    {
      "cell_type": "markdown",
      "source": [
        "## **Step 3: Creating the jaccard similarity function**"
      ],
      "metadata": {
        "id": "TLtExhumSdZA"
      }
    },
    {
      "cell_type": "code",
      "source": [
        "# Compute Jaccard similarity\n",
        "def compute_jaccard_similarity(tokens1, tokens2):\n",
        "    # Compute Jaccard distance between two sets of tokens\n",
        "    distance = jaccard_distance(tokens1, tokens2)\n",
        "\n",
        "    # Return Jaccard similarity\n",
        "    return 1 - distance"
      ],
      "metadata": {
        "id": "ef-UfbCpTatE"
      },
      "execution_count": null,
      "outputs": []
    },
    {
      "cell_type": "markdown",
      "source": [
        "## **Step 4: Adding Jaccard similarity after word tokenization without utilizing any preprocessing**"
      ],
      "metadata": {
        "id": "iEV1qwFNYVTD"
      }
    },
    {
      "cell_type": "code",
      "source": [
        "#Adding the computed results to a new column\n",
        "dt['jaccard'] = dt.apply(lambda row: compute_jaccard_similarity(set(word_tokenize(row[0])), set(word_tokenize(row[1]))), axis=1)\n"
      ],
      "metadata": {
        "id": "HuTp56UtYLcG"
      },
      "execution_count": null,
      "outputs": []
    },
    {
      "cell_type": "markdown",
      "source": [
        "## **Step 5: Adding lemmatization without utilizing any preprocessing**"
      ],
      "metadata": {
        "id": "VcgPRcDnYzeI"
      }
    },
    {
      "cell_type": "code",
      "source": [
        "# Initialize WordNetLemmatizer\n",
        "wnl = WordNetLemmatizer()\n",
        "\n",
        "# Lemmatization function using POS tags\n",
        "def lemmatize(p):\n",
        "    d = {\n",
        "        'NN': 'n', 'NNS': 'n',\n",
        "        'JJ': 'a', 'JJR': 'a', 'JJS': 'a',\n",
        "        'VB': 'v', 'VBD': 'v', 'VBG': 'v',\n",
        "        'VBN': 'v', 'VBP': 'v', 'VBZ': 'v',\n",
        "        'RB': 'r', 'RBR': 'r', 'RBS': 'r'\n",
        "    }\n",
        "    if p[1] in d:\n",
        "        return wnl.lemmatize(p[0], pos=d[p[1]])\n",
        "    return p[0]\n",
        "def tokenize_and_lemmatize(sentence):\n",
        "\n",
        "    # Tokenize the preprocessed sentence\n",
        "    tokens = word_tokenize(sentence)\n",
        "\n",
        "    # Perform POS tagging on the tokens\n",
        "    pos_tags = nltk.pos_tag(tokens)\n",
        "\n",
        "    # Lemmatize the tokens based on their POS tags\n",
        "    lemmatized_tokens = {lemmatize((word.lower(), pos)) for word, pos in pos_tags}\n",
        "\n",
        "    return lemmatized_tokens\n"
      ],
      "metadata": {
        "id": "ukAHaSIlYyb_"
      },
      "execution_count": null,
      "outputs": []
    },
    {
      "cell_type": "code",
      "source": [
        "#Adding the computed results to a new column\n",
        "dt['jaccard_lemmatized'] = dt.apply(lambda row: compute_jaccard_similarity(tokenize_and_lemmatize(row[0]), tokenize_and_lemmatize(row[1])), axis=1)"
      ],
      "metadata": {
        "id": "wTgtJKQAZiVU"
      },
      "execution_count": null,
      "outputs": []
    },
    {
      "cell_type": "code",
      "source": [
        "dt.head()"
      ],
      "metadata": {
        "colab": {
          "base_uri": "https://localhost:8080/",
          "height": 206
        },
        "id": "Pzm0JJS9-xgT",
        "outputId": "d5238ba4-69f9-47d9-a572-5e076e672f72"
      },
      "execution_count": null,
      "outputs": [
        {
          "output_type": "execute_result",
          "data": {
            "text/plain": [
              "                                                   0  \\\n",
              "0  The leaders have now been given a new chance a...   \n",
              "1  Amendment No 7 proposes certain changes in the...   \n",
              "2  Let me remind you that our allies include ferv...   \n",
              "3        The vote will take place today at 5.30 p.m.   \n",
              "4  The fishermen are inactive, tired and disappoi...   \n",
              "\n",
              "                                                   1    gs  gs_normalized  \\\n",
              "0  The leaders benefit aujourd' hui of a new luck...  4.50           0.90   \n",
              "1  Amendment No 7 is proposing certain changes in...  5.00           1.00   \n",
              "2  I would like to remind you that among our alli...  4.25           0.85   \n",
              "3                 The vote will take place at 5.30pm  4.50           0.90   \n",
              "4  The fishermen are inactive, tired and disappoi...  5.00           1.00   \n",
              "\n",
              "    jaccard  jaccard_lemmatized  \n",
              "0  0.346154            0.346154  \n",
              "1  0.785714            0.923077  \n",
              "2  0.391304            0.391304  \n",
              "3  0.545455            0.545455  \n",
              "4  1.000000            1.000000  "
            ],
            "text/html": [
              "\n",
              "  <div id=\"df-d8ee35b2-dca6-47b5-8562-98d4206ca032\" class=\"colab-df-container\">\n",
              "    <div>\n",
              "<style scoped>\n",
              "    .dataframe tbody tr th:only-of-type {\n",
              "        vertical-align: middle;\n",
              "    }\n",
              "\n",
              "    .dataframe tbody tr th {\n",
              "        vertical-align: top;\n",
              "    }\n",
              "\n",
              "    .dataframe thead th {\n",
              "        text-align: right;\n",
              "    }\n",
              "</style>\n",
              "<table border=\"1\" class=\"dataframe\">\n",
              "  <thead>\n",
              "    <tr style=\"text-align: right;\">\n",
              "      <th></th>\n",
              "      <th>0</th>\n",
              "      <th>1</th>\n",
              "      <th>gs</th>\n",
              "      <th>gs_normalized</th>\n",
              "      <th>jaccard</th>\n",
              "      <th>jaccard_lemmatized</th>\n",
              "    </tr>\n",
              "  </thead>\n",
              "  <tbody>\n",
              "    <tr>\n",
              "      <th>0</th>\n",
              "      <td>The leaders have now been given a new chance a...</td>\n",
              "      <td>The leaders benefit aujourd' hui of a new luck...</td>\n",
              "      <td>4.50</td>\n",
              "      <td>0.90</td>\n",
              "      <td>0.346154</td>\n",
              "      <td>0.346154</td>\n",
              "    </tr>\n",
              "    <tr>\n",
              "      <th>1</th>\n",
              "      <td>Amendment No 7 proposes certain changes in the...</td>\n",
              "      <td>Amendment No 7 is proposing certain changes in...</td>\n",
              "      <td>5.00</td>\n",
              "      <td>1.00</td>\n",
              "      <td>0.785714</td>\n",
              "      <td>0.923077</td>\n",
              "    </tr>\n",
              "    <tr>\n",
              "      <th>2</th>\n",
              "      <td>Let me remind you that our allies include ferv...</td>\n",
              "      <td>I would like to remind you that among our alli...</td>\n",
              "      <td>4.25</td>\n",
              "      <td>0.85</td>\n",
              "      <td>0.391304</td>\n",
              "      <td>0.391304</td>\n",
              "    </tr>\n",
              "    <tr>\n",
              "      <th>3</th>\n",
              "      <td>The vote will take place today at 5.30 p.m.</td>\n",
              "      <td>The vote will take place at 5.30pm</td>\n",
              "      <td>4.50</td>\n",
              "      <td>0.90</td>\n",
              "      <td>0.545455</td>\n",
              "      <td>0.545455</td>\n",
              "    </tr>\n",
              "    <tr>\n",
              "      <th>4</th>\n",
              "      <td>The fishermen are inactive, tired and disappoi...</td>\n",
              "      <td>The fishermen are inactive, tired and disappoi...</td>\n",
              "      <td>5.00</td>\n",
              "      <td>1.00</td>\n",
              "      <td>1.000000</td>\n",
              "      <td>1.000000</td>\n",
              "    </tr>\n",
              "  </tbody>\n",
              "</table>\n",
              "</div>\n",
              "    <div class=\"colab-df-buttons\">\n",
              "\n",
              "  <div class=\"colab-df-container\">\n",
              "    <button class=\"colab-df-convert\" onclick=\"convertToInteractive('df-d8ee35b2-dca6-47b5-8562-98d4206ca032')\"\n",
              "            title=\"Convert this dataframe to an interactive table.\"\n",
              "            style=\"display:none;\">\n",
              "\n",
              "  <svg xmlns=\"http://www.w3.org/2000/svg\" height=\"24px\" viewBox=\"0 -960 960 960\">\n",
              "    <path d=\"M120-120v-720h720v720H120Zm60-500h600v-160H180v160Zm220 220h160v-160H400v160Zm0 220h160v-160H400v160ZM180-400h160v-160H180v160Zm440 0h160v-160H620v160ZM180-180h160v-160H180v160Zm440 0h160v-160H620v160Z\"/>\n",
              "  </svg>\n",
              "    </button>\n",
              "\n",
              "  <style>\n",
              "    .colab-df-container {\n",
              "      display:flex;\n",
              "      gap: 12px;\n",
              "    }\n",
              "\n",
              "    .colab-df-convert {\n",
              "      background-color: #E8F0FE;\n",
              "      border: none;\n",
              "      border-radius: 50%;\n",
              "      cursor: pointer;\n",
              "      display: none;\n",
              "      fill: #1967D2;\n",
              "      height: 32px;\n",
              "      padding: 0 0 0 0;\n",
              "      width: 32px;\n",
              "    }\n",
              "\n",
              "    .colab-df-convert:hover {\n",
              "      background-color: #E2EBFA;\n",
              "      box-shadow: 0px 1px 2px rgba(60, 64, 67, 0.3), 0px 1px 3px 1px rgba(60, 64, 67, 0.15);\n",
              "      fill: #174EA6;\n",
              "    }\n",
              "\n",
              "    .colab-df-buttons div {\n",
              "      margin-bottom: 4px;\n",
              "    }\n",
              "\n",
              "    [theme=dark] .colab-df-convert {\n",
              "      background-color: #3B4455;\n",
              "      fill: #D2E3FC;\n",
              "    }\n",
              "\n",
              "    [theme=dark] .colab-df-convert:hover {\n",
              "      background-color: #434B5C;\n",
              "      box-shadow: 0px 1px 3px 1px rgba(0, 0, 0, 0.15);\n",
              "      filter: drop-shadow(0px 1px 2px rgba(0, 0, 0, 0.3));\n",
              "      fill: #FFFFFF;\n",
              "    }\n",
              "  </style>\n",
              "\n",
              "    <script>\n",
              "      const buttonEl =\n",
              "        document.querySelector('#df-d8ee35b2-dca6-47b5-8562-98d4206ca032 button.colab-df-convert');\n",
              "      buttonEl.style.display =\n",
              "        google.colab.kernel.accessAllowed ? 'block' : 'none';\n",
              "\n",
              "      async function convertToInteractive(key) {\n",
              "        const element = document.querySelector('#df-d8ee35b2-dca6-47b5-8562-98d4206ca032');\n",
              "        const dataTable =\n",
              "          await google.colab.kernel.invokeFunction('convertToInteractive',\n",
              "                                                    [key], {});\n",
              "        if (!dataTable) return;\n",
              "\n",
              "        const docLinkHtml = 'Like what you see? Visit the ' +\n",
              "          '<a target=\"_blank\" href=https://colab.research.google.com/notebooks/data_table.ipynb>data table notebook</a>'\n",
              "          + ' to learn more about interactive tables.';\n",
              "        element.innerHTML = '';\n",
              "        dataTable['output_type'] = 'display_data';\n",
              "        await google.colab.output.renderOutput(dataTable, element);\n",
              "        const docLink = document.createElement('div');\n",
              "        docLink.innerHTML = docLinkHtml;\n",
              "        element.appendChild(docLink);\n",
              "      }\n",
              "    </script>\n",
              "  </div>\n",
              "\n",
              "\n",
              "<div id=\"df-cbaae63e-a128-43ef-ba75-9bf52b5f06ff\">\n",
              "  <button class=\"colab-df-quickchart\" onclick=\"quickchart('df-cbaae63e-a128-43ef-ba75-9bf52b5f06ff')\"\n",
              "            title=\"Suggest charts\"\n",
              "            style=\"display:none;\">\n",
              "\n",
              "<svg xmlns=\"http://www.w3.org/2000/svg\" height=\"24px\"viewBox=\"0 0 24 24\"\n",
              "     width=\"24px\">\n",
              "    <g>\n",
              "        <path d=\"M19 3H5c-1.1 0-2 .9-2 2v14c0 1.1.9 2 2 2h14c1.1 0 2-.9 2-2V5c0-1.1-.9-2-2-2zM9 17H7v-7h2v7zm4 0h-2V7h2v10zm4 0h-2v-4h2v4z\"/>\n",
              "    </g>\n",
              "</svg>\n",
              "  </button>\n",
              "\n",
              "<style>\n",
              "  .colab-df-quickchart {\n",
              "      --bg-color: #E8F0FE;\n",
              "      --fill-color: #1967D2;\n",
              "      --hover-bg-color: #E2EBFA;\n",
              "      --hover-fill-color: #174EA6;\n",
              "      --disabled-fill-color: #AAA;\n",
              "      --disabled-bg-color: #DDD;\n",
              "  }\n",
              "\n",
              "  [theme=dark] .colab-df-quickchart {\n",
              "      --bg-color: #3B4455;\n",
              "      --fill-color: #D2E3FC;\n",
              "      --hover-bg-color: #434B5C;\n",
              "      --hover-fill-color: #FFFFFF;\n",
              "      --disabled-bg-color: #3B4455;\n",
              "      --disabled-fill-color: #666;\n",
              "  }\n",
              "\n",
              "  .colab-df-quickchart {\n",
              "    background-color: var(--bg-color);\n",
              "    border: none;\n",
              "    border-radius: 50%;\n",
              "    cursor: pointer;\n",
              "    display: none;\n",
              "    fill: var(--fill-color);\n",
              "    height: 32px;\n",
              "    padding: 0;\n",
              "    width: 32px;\n",
              "  }\n",
              "\n",
              "  .colab-df-quickchart:hover {\n",
              "    background-color: var(--hover-bg-color);\n",
              "    box-shadow: 0 1px 2px rgba(60, 64, 67, 0.3), 0 1px 3px 1px rgba(60, 64, 67, 0.15);\n",
              "    fill: var(--button-hover-fill-color);\n",
              "  }\n",
              "\n",
              "  .colab-df-quickchart-complete:disabled,\n",
              "  .colab-df-quickchart-complete:disabled:hover {\n",
              "    background-color: var(--disabled-bg-color);\n",
              "    fill: var(--disabled-fill-color);\n",
              "    box-shadow: none;\n",
              "  }\n",
              "\n",
              "  .colab-df-spinner {\n",
              "    border: 2px solid var(--fill-color);\n",
              "    border-color: transparent;\n",
              "    border-bottom-color: var(--fill-color);\n",
              "    animation:\n",
              "      spin 1s steps(1) infinite;\n",
              "  }\n",
              "\n",
              "  @keyframes spin {\n",
              "    0% {\n",
              "      border-color: transparent;\n",
              "      border-bottom-color: var(--fill-color);\n",
              "      border-left-color: var(--fill-color);\n",
              "    }\n",
              "    20% {\n",
              "      border-color: transparent;\n",
              "      border-left-color: var(--fill-color);\n",
              "      border-top-color: var(--fill-color);\n",
              "    }\n",
              "    30% {\n",
              "      border-color: transparent;\n",
              "      border-left-color: var(--fill-color);\n",
              "      border-top-color: var(--fill-color);\n",
              "      border-right-color: var(--fill-color);\n",
              "    }\n",
              "    40% {\n",
              "      border-color: transparent;\n",
              "      border-right-color: var(--fill-color);\n",
              "      border-top-color: var(--fill-color);\n",
              "    }\n",
              "    60% {\n",
              "      border-color: transparent;\n",
              "      border-right-color: var(--fill-color);\n",
              "    }\n",
              "    80% {\n",
              "      border-color: transparent;\n",
              "      border-right-color: var(--fill-color);\n",
              "      border-bottom-color: var(--fill-color);\n",
              "    }\n",
              "    90% {\n",
              "      border-color: transparent;\n",
              "      border-bottom-color: var(--fill-color);\n",
              "    }\n",
              "  }\n",
              "</style>\n",
              "\n",
              "  <script>\n",
              "    async function quickchart(key) {\n",
              "      const quickchartButtonEl =\n",
              "        document.querySelector('#' + key + ' button');\n",
              "      quickchartButtonEl.disabled = true;  // To prevent multiple clicks.\n",
              "      quickchartButtonEl.classList.add('colab-df-spinner');\n",
              "      try {\n",
              "        const charts = await google.colab.kernel.invokeFunction(\n",
              "            'suggestCharts', [key], {});\n",
              "      } catch (error) {\n",
              "        console.error('Error during call to suggestCharts:', error);\n",
              "      }\n",
              "      quickchartButtonEl.classList.remove('colab-df-spinner');\n",
              "      quickchartButtonEl.classList.add('colab-df-quickchart-complete');\n",
              "    }\n",
              "    (() => {\n",
              "      let quickchartButtonEl =\n",
              "        document.querySelector('#df-cbaae63e-a128-43ef-ba75-9bf52b5f06ff button');\n",
              "      quickchartButtonEl.style.display =\n",
              "        google.colab.kernel.accessAllowed ? 'block' : 'none';\n",
              "    })();\n",
              "  </script>\n",
              "</div>\n",
              "\n",
              "    </div>\n",
              "  </div>\n"
            ],
            "application/vnd.google.colaboratory.intrinsic+json": {
              "type": "dataframe",
              "variable_name": "dt",
              "summary": "{\n  \"name\": \"dt\",\n  \"rows\": 459,\n  \"fields\": [\n    {\n      \"column\": 0,\n      \"properties\": {\n        \"dtype\": \"category\",\n        \"num_unique_values\": 27,\n        \"samples\": [\n          \"We often pontificate here about being the representatives of the citizens of Europe.\",\n          \"Mr President, the Cashman report can be summarised in four words: citizens' power over bureaucracy.\",\n          \"(Parliament adopted the legislative resolution)\"\n        ],\n        \"semantic_type\": \"\",\n        \"description\": \"\"\n      }\n    },\n    {\n      \"column\": 1,\n      \"properties\": {\n        \"dtype\": \"string\",\n        \"num_unique_values\": 317,\n        \"samples\": [\n          \"The amendment 7 proposes some changes in the references to the paragraphs.\",\n          \"It is of our duty of continuing press Latvia on the question of the integration of the Russian population.\",\n          \"I insist on reminding you that among our allies, there are devotees of this tax.\"\n        ],\n        \"semantic_type\": \"\",\n        \"description\": \"\"\n      }\n    },\n    {\n      \"column\": \"gs\",\n      \"properties\": {\n        \"dtype\": \"number\",\n        \"std\": 0.5160896193771509,\n        \"min\": 1.5,\n        \"max\": 5.0,\n        \"num_unique_values\": 26,\n        \"samples\": [\n          4.333,\n          4.2,\n          4.5\n        ],\n        \"semantic_type\": \"\",\n        \"description\": \"\"\n      }\n    },\n    {\n      \"column\": \"gs_normalized\",\n      \"properties\": {\n        \"dtype\": \"number\",\n        \"std\": 0.10321792387543043,\n        \"min\": 0.3,\n        \"max\": 1.0,\n        \"num_unique_values\": 26,\n        \"samples\": [\n          0.8666,\n          0.8400000000000001,\n          0.9\n        ],\n        \"semantic_type\": \"\",\n        \"description\": \"\"\n      }\n    },\n    {\n      \"column\": \"jaccard\",\n      \"properties\": {\n        \"dtype\": \"number\",\n        \"std\": 0.2433988709536509,\n        \"min\": 0.052631578947368474,\n        \"max\": 1.0,\n        \"num_unique_values\": 95,\n        \"samples\": [\n          0.2777777777777778,\n          0.4375,\n          0.1875\n        ],\n        \"semantic_type\": \"\",\n        \"description\": \"\"\n      }\n    },\n    {\n      \"column\": \"jaccard_lemmatized\",\n      \"properties\": {\n        \"dtype\": \"number\",\n        \"std\": 0.23130705899396312,\n        \"min\": 0.11111111111111116,\n        \"max\": 1.0,\n        \"num_unique_values\": 89,\n        \"samples\": [\n          0.7692307692307692,\n          0.47619047619047616,\n          0.37037037037037035\n        ],\n        \"semantic_type\": \"\",\n        \"description\": \"\"\n      }\n    }\n  ]\n}"
            }
          },
          "metadata": {},
          "execution_count": 10
        }
      ]
    },
    {
      "cell_type": "markdown",
      "source": [
        "## **Step 6: Computing correlation between the created column and gold standard**"
      ],
      "metadata": {
        "id": "hh7z1CEyaJ63"
      }
    },
    {
      "cell_type": "code",
      "source": [
        "# Compute Pearson correlation between Jaccard similarity and gold standard\n",
        "def compute_pearson_correlation(refs, tsts):\n",
        "    if len(refs) != len(tsts):\n",
        "        raise ValueError(\"The two input lists must have the same length.\")\n",
        "    correlation, _ = pearsonr(refs, tsts)\n",
        "    return correlation"
      ],
      "metadata": {
        "id": "o-lslk-laC7R"
      },
      "execution_count": null,
      "outputs": []
    },
    {
      "cell_type": "code",
      "source": [
        "correlation = compute_pearson_correlation(dt['gs_normalized'], dt['jaccard'])\n",
        "correlation_lemmatized = compute_pearson_correlation(dt['gs_normalized'], dt['jaccard_lemmatized'])\n",
        "print(f\"Correlation comparing the Jaccard similarity based on tokenization:  {correlation:.4f}\")\n",
        "print(f\"Correlation comparing the Jaccard similarity based lemmatization:  {correlation_lemmatized:.4f}\")"
      ],
      "metadata": {
        "colab": {
          "base_uri": "https://localhost:8080/"
        },
        "id": "rk1Jk3e5aWUt",
        "outputId": "ee5b8841-c75d-48b7-d89b-be1736bdc228"
      },
      "execution_count": null,
      "outputs": [
        {
          "output_type": "stream",
          "name": "stdout",
          "text": [
            "Correlation comparing the Jaccard similarity based on tokenization:  0.4505\n",
            "Correlation comparing the Jaccard similarity based lemmatization:  0.4613\n"
          ]
        }
      ]
    },
    {
      "cell_type": "markdown",
      "source": [
        "### **Conclusions:**\n",
        "\n",
        "We can see from the results that Lemmatization is working better than tokenization when we don't perform any preprocessing.\n",
        "\n"
      ],
      "metadata": {
        "id": "9C1eP8o9BUWK"
      }
    },
    {
      "cell_type": "markdown",
      "source": [
        "## **Step 7: Recreating the previous lab's results**"
      ],
      "metadata": {
        "id": "oeIU92DeVhqO"
      }
    },
    {
      "cell_type": "code",
      "source": [
        "# Removing the punctuation from the text, using maketrans() is slightly faster\n",
        "punctuation_table = str.maketrans('', '', string.punctuation)\n",
        "\n",
        "# Expanding contractions, removing punctuation,lowercasing the text\n",
        "def previous_preprocessing(sentence):\n",
        "    sentence = contractions.fix(sentence).translate(punctuation_table).lower()\n",
        "    return sentence\n",
        "\n",
        "#Function to preprocess and tokenize sentences\n",
        "def preprocess_and_tokenize(sentence, preprocessing):\n",
        "    sentence = preprocessing(sentence)\n",
        "    tokens = set(word_tokenize(sentence))\n",
        "    return tokens\n"
      ],
      "metadata": {
        "id": "3LN_PrO_Tj6M"
      },
      "execution_count": null,
      "outputs": []
    },
    {
      "cell_type": "code",
      "source": [
        "#Adding the computed results to a new column\n",
        "dt['previous_best_jaccard'] =  dt.apply(lambda row: compute_jaccard_similarity(preprocess_and_tokenize(row[0], previous_preprocessing),preprocess_and_tokenize(row[1], previous_preprocessing)), axis=1)"
      ],
      "metadata": {
        "id": "-h5yVvXsbjt8"
      },
      "execution_count": null,
      "outputs": []
    },
    {
      "cell_type": "markdown",
      "source": [
        "## **Step 8: Performing the same preprocessing steps for lemmatization process**"
      ],
      "metadata": {
        "id": "MbTzGGLzBxfa"
      }
    },
    {
      "cell_type": "code",
      "source": [
        "def preprocess_and_lemmatize(sentence, preprocessing):\n",
        "    # Preprocessing the sentence\n",
        "    preprocessed_sentence = preprocessing(sentence)\n",
        "    # Tokenize the preprocessed sentence\n",
        "    tokens = word_tokenize(preprocessed_sentence)\n",
        "    # Perform POS tagging on the tokens\n",
        "    pos_tags = nltk.pos_tag(tokens)\n",
        "    # Lemmatize the tokens based on their POS tags\n",
        "    lemmatized_tokens = {lemmatize((word, pos)) for word, pos in pos_tags}\n",
        "    return lemmatized_tokens"
      ],
      "metadata": {
        "id": "rcG-FGXLB_Rc"
      },
      "execution_count": null,
      "outputs": []
    },
    {
      "cell_type": "code",
      "source": [
        "#Adding the computed result to a new column\n",
        "dt['jaccard_preprocessed_lemmatized'] = dt.apply(lambda row: compute_jaccard_similarity(\n",
        "    preprocess_and_lemmatize(row[0], previous_preprocessing),\n",
        "    preprocess_and_lemmatize(row[1], previous_preprocessing)), axis=1)"
      ],
      "metadata": {
        "id": "vn4pmcJOCiQT"
      },
      "execution_count": null,
      "outputs": []
    },
    {
      "cell_type": "code",
      "source": [
        "dt.head()"
      ],
      "metadata": {
        "colab": {
          "base_uri": "https://localhost:8080/",
          "height": 310
        },
        "id": "BcUzzwWuD9x_",
        "outputId": "5819d194-fe41-46ff-f11e-efb78fac0b43"
      },
      "execution_count": null,
      "outputs": [
        {
          "output_type": "execute_result",
          "data": {
            "text/plain": [
              "                                                   0  \\\n",
              "0  The leaders have now been given a new chance a...   \n",
              "1  Amendment No 7 proposes certain changes in the...   \n",
              "2  Let me remind you that our allies include ferv...   \n",
              "3        The vote will take place today at 5.30 p.m.   \n",
              "4  The fishermen are inactive, tired and disappoi...   \n",
              "\n",
              "                                                   1    gs  gs_normalized  \\\n",
              "0  The leaders benefit aujourd' hui of a new luck...  4.50           0.90   \n",
              "1  Amendment No 7 is proposing certain changes in...  5.00           1.00   \n",
              "2  I would like to remind you that among our alli...  4.25           0.85   \n",
              "3                 The vote will take place at 5.30pm  4.50           0.90   \n",
              "4  The fishermen are inactive, tired and disappoi...  5.00           1.00   \n",
              "\n",
              "    jaccard  jaccard_lemmatized  previous_best_jaccard  \\\n",
              "0  0.346154            0.346154               0.391304   \n",
              "1  0.785714            0.923077               0.769231   \n",
              "2  0.391304            0.391304               0.380952   \n",
              "3  0.545455            0.545455               0.600000   \n",
              "4  1.000000            1.000000               1.000000   \n",
              "\n",
              "   jaccard_preprocessed_lemmatized  \n",
              "0                         0.391304  \n",
              "1                         0.769231  \n",
              "2                         0.380952  \n",
              "3                         0.600000  \n",
              "4                         1.000000  "
            ],
            "text/html": [
              "\n",
              "  <div id=\"df-5cfa5d32-8585-4484-8e67-f3fa29b0a0a0\" class=\"colab-df-container\">\n",
              "    <div>\n",
              "<style scoped>\n",
              "    .dataframe tbody tr th:only-of-type {\n",
              "        vertical-align: middle;\n",
              "    }\n",
              "\n",
              "    .dataframe tbody tr th {\n",
              "        vertical-align: top;\n",
              "    }\n",
              "\n",
              "    .dataframe thead th {\n",
              "        text-align: right;\n",
              "    }\n",
              "</style>\n",
              "<table border=\"1\" class=\"dataframe\">\n",
              "  <thead>\n",
              "    <tr style=\"text-align: right;\">\n",
              "      <th></th>\n",
              "      <th>0</th>\n",
              "      <th>1</th>\n",
              "      <th>gs</th>\n",
              "      <th>gs_normalized</th>\n",
              "      <th>jaccard</th>\n",
              "      <th>jaccard_lemmatized</th>\n",
              "      <th>previous_best_jaccard</th>\n",
              "      <th>jaccard_preprocessed_lemmatized</th>\n",
              "    </tr>\n",
              "  </thead>\n",
              "  <tbody>\n",
              "    <tr>\n",
              "      <th>0</th>\n",
              "      <td>The leaders have now been given a new chance a...</td>\n",
              "      <td>The leaders benefit aujourd' hui of a new luck...</td>\n",
              "      <td>4.50</td>\n",
              "      <td>0.90</td>\n",
              "      <td>0.346154</td>\n",
              "      <td>0.346154</td>\n",
              "      <td>0.391304</td>\n",
              "      <td>0.391304</td>\n",
              "    </tr>\n",
              "    <tr>\n",
              "      <th>1</th>\n",
              "      <td>Amendment No 7 proposes certain changes in the...</td>\n",
              "      <td>Amendment No 7 is proposing certain changes in...</td>\n",
              "      <td>5.00</td>\n",
              "      <td>1.00</td>\n",
              "      <td>0.785714</td>\n",
              "      <td>0.923077</td>\n",
              "      <td>0.769231</td>\n",
              "      <td>0.769231</td>\n",
              "    </tr>\n",
              "    <tr>\n",
              "      <th>2</th>\n",
              "      <td>Let me remind you that our allies include ferv...</td>\n",
              "      <td>I would like to remind you that among our alli...</td>\n",
              "      <td>4.25</td>\n",
              "      <td>0.85</td>\n",
              "      <td>0.391304</td>\n",
              "      <td>0.391304</td>\n",
              "      <td>0.380952</td>\n",
              "      <td>0.380952</td>\n",
              "    </tr>\n",
              "    <tr>\n",
              "      <th>3</th>\n",
              "      <td>The vote will take place today at 5.30 p.m.</td>\n",
              "      <td>The vote will take place at 5.30pm</td>\n",
              "      <td>4.50</td>\n",
              "      <td>0.90</td>\n",
              "      <td>0.545455</td>\n",
              "      <td>0.545455</td>\n",
              "      <td>0.600000</td>\n",
              "      <td>0.600000</td>\n",
              "    </tr>\n",
              "    <tr>\n",
              "      <th>4</th>\n",
              "      <td>The fishermen are inactive, tired and disappoi...</td>\n",
              "      <td>The fishermen are inactive, tired and disappoi...</td>\n",
              "      <td>5.00</td>\n",
              "      <td>1.00</td>\n",
              "      <td>1.000000</td>\n",
              "      <td>1.000000</td>\n",
              "      <td>1.000000</td>\n",
              "      <td>1.000000</td>\n",
              "    </tr>\n",
              "  </tbody>\n",
              "</table>\n",
              "</div>\n",
              "    <div class=\"colab-df-buttons\">\n",
              "\n",
              "  <div class=\"colab-df-container\">\n",
              "    <button class=\"colab-df-convert\" onclick=\"convertToInteractive('df-5cfa5d32-8585-4484-8e67-f3fa29b0a0a0')\"\n",
              "            title=\"Convert this dataframe to an interactive table.\"\n",
              "            style=\"display:none;\">\n",
              "\n",
              "  <svg xmlns=\"http://www.w3.org/2000/svg\" height=\"24px\" viewBox=\"0 -960 960 960\">\n",
              "    <path d=\"M120-120v-720h720v720H120Zm60-500h600v-160H180v160Zm220 220h160v-160H400v160Zm0 220h160v-160H400v160ZM180-400h160v-160H180v160Zm440 0h160v-160H620v160ZM180-180h160v-160H180v160Zm440 0h160v-160H620v160Z\"/>\n",
              "  </svg>\n",
              "    </button>\n",
              "\n",
              "  <style>\n",
              "    .colab-df-container {\n",
              "      display:flex;\n",
              "      gap: 12px;\n",
              "    }\n",
              "\n",
              "    .colab-df-convert {\n",
              "      background-color: #E8F0FE;\n",
              "      border: none;\n",
              "      border-radius: 50%;\n",
              "      cursor: pointer;\n",
              "      display: none;\n",
              "      fill: #1967D2;\n",
              "      height: 32px;\n",
              "      padding: 0 0 0 0;\n",
              "      width: 32px;\n",
              "    }\n",
              "\n",
              "    .colab-df-convert:hover {\n",
              "      background-color: #E2EBFA;\n",
              "      box-shadow: 0px 1px 2px rgba(60, 64, 67, 0.3), 0px 1px 3px 1px rgba(60, 64, 67, 0.15);\n",
              "      fill: #174EA6;\n",
              "    }\n",
              "\n",
              "    .colab-df-buttons div {\n",
              "      margin-bottom: 4px;\n",
              "    }\n",
              "\n",
              "    [theme=dark] .colab-df-convert {\n",
              "      background-color: #3B4455;\n",
              "      fill: #D2E3FC;\n",
              "    }\n",
              "\n",
              "    [theme=dark] .colab-df-convert:hover {\n",
              "      background-color: #434B5C;\n",
              "      box-shadow: 0px 1px 3px 1px rgba(0, 0, 0, 0.15);\n",
              "      filter: drop-shadow(0px 1px 2px rgba(0, 0, 0, 0.3));\n",
              "      fill: #FFFFFF;\n",
              "    }\n",
              "  </style>\n",
              "\n",
              "    <script>\n",
              "      const buttonEl =\n",
              "        document.querySelector('#df-5cfa5d32-8585-4484-8e67-f3fa29b0a0a0 button.colab-df-convert');\n",
              "      buttonEl.style.display =\n",
              "        google.colab.kernel.accessAllowed ? 'block' : 'none';\n",
              "\n",
              "      async function convertToInteractive(key) {\n",
              "        const element = document.querySelector('#df-5cfa5d32-8585-4484-8e67-f3fa29b0a0a0');\n",
              "        const dataTable =\n",
              "          await google.colab.kernel.invokeFunction('convertToInteractive',\n",
              "                                                    [key], {});\n",
              "        if (!dataTable) return;\n",
              "\n",
              "        const docLinkHtml = 'Like what you see? Visit the ' +\n",
              "          '<a target=\"_blank\" href=https://colab.research.google.com/notebooks/data_table.ipynb>data table notebook</a>'\n",
              "          + ' to learn more about interactive tables.';\n",
              "        element.innerHTML = '';\n",
              "        dataTable['output_type'] = 'display_data';\n",
              "        await google.colab.output.renderOutput(dataTable, element);\n",
              "        const docLink = document.createElement('div');\n",
              "        docLink.innerHTML = docLinkHtml;\n",
              "        element.appendChild(docLink);\n",
              "      }\n",
              "    </script>\n",
              "  </div>\n",
              "\n",
              "\n",
              "<div id=\"df-804fc751-d614-4181-bb71-fb4adac61a76\">\n",
              "  <button class=\"colab-df-quickchart\" onclick=\"quickchart('df-804fc751-d614-4181-bb71-fb4adac61a76')\"\n",
              "            title=\"Suggest charts\"\n",
              "            style=\"display:none;\">\n",
              "\n",
              "<svg xmlns=\"http://www.w3.org/2000/svg\" height=\"24px\"viewBox=\"0 0 24 24\"\n",
              "     width=\"24px\">\n",
              "    <g>\n",
              "        <path d=\"M19 3H5c-1.1 0-2 .9-2 2v14c0 1.1.9 2 2 2h14c1.1 0 2-.9 2-2V5c0-1.1-.9-2-2-2zM9 17H7v-7h2v7zm4 0h-2V7h2v10zm4 0h-2v-4h2v4z\"/>\n",
              "    </g>\n",
              "</svg>\n",
              "  </button>\n",
              "\n",
              "<style>\n",
              "  .colab-df-quickchart {\n",
              "      --bg-color: #E8F0FE;\n",
              "      --fill-color: #1967D2;\n",
              "      --hover-bg-color: #E2EBFA;\n",
              "      --hover-fill-color: #174EA6;\n",
              "      --disabled-fill-color: #AAA;\n",
              "      --disabled-bg-color: #DDD;\n",
              "  }\n",
              "\n",
              "  [theme=dark] .colab-df-quickchart {\n",
              "      --bg-color: #3B4455;\n",
              "      --fill-color: #D2E3FC;\n",
              "      --hover-bg-color: #434B5C;\n",
              "      --hover-fill-color: #FFFFFF;\n",
              "      --disabled-bg-color: #3B4455;\n",
              "      --disabled-fill-color: #666;\n",
              "  }\n",
              "\n",
              "  .colab-df-quickchart {\n",
              "    background-color: var(--bg-color);\n",
              "    border: none;\n",
              "    border-radius: 50%;\n",
              "    cursor: pointer;\n",
              "    display: none;\n",
              "    fill: var(--fill-color);\n",
              "    height: 32px;\n",
              "    padding: 0;\n",
              "    width: 32px;\n",
              "  }\n",
              "\n",
              "  .colab-df-quickchart:hover {\n",
              "    background-color: var(--hover-bg-color);\n",
              "    box-shadow: 0 1px 2px rgba(60, 64, 67, 0.3), 0 1px 3px 1px rgba(60, 64, 67, 0.15);\n",
              "    fill: var(--button-hover-fill-color);\n",
              "  }\n",
              "\n",
              "  .colab-df-quickchart-complete:disabled,\n",
              "  .colab-df-quickchart-complete:disabled:hover {\n",
              "    background-color: var(--disabled-bg-color);\n",
              "    fill: var(--disabled-fill-color);\n",
              "    box-shadow: none;\n",
              "  }\n",
              "\n",
              "  .colab-df-spinner {\n",
              "    border: 2px solid var(--fill-color);\n",
              "    border-color: transparent;\n",
              "    border-bottom-color: var(--fill-color);\n",
              "    animation:\n",
              "      spin 1s steps(1) infinite;\n",
              "  }\n",
              "\n",
              "  @keyframes spin {\n",
              "    0% {\n",
              "      border-color: transparent;\n",
              "      border-bottom-color: var(--fill-color);\n",
              "      border-left-color: var(--fill-color);\n",
              "    }\n",
              "    20% {\n",
              "      border-color: transparent;\n",
              "      border-left-color: var(--fill-color);\n",
              "      border-top-color: var(--fill-color);\n",
              "    }\n",
              "    30% {\n",
              "      border-color: transparent;\n",
              "      border-left-color: var(--fill-color);\n",
              "      border-top-color: var(--fill-color);\n",
              "      border-right-color: var(--fill-color);\n",
              "    }\n",
              "    40% {\n",
              "      border-color: transparent;\n",
              "      border-right-color: var(--fill-color);\n",
              "      border-top-color: var(--fill-color);\n",
              "    }\n",
              "    60% {\n",
              "      border-color: transparent;\n",
              "      border-right-color: var(--fill-color);\n",
              "    }\n",
              "    80% {\n",
              "      border-color: transparent;\n",
              "      border-right-color: var(--fill-color);\n",
              "      border-bottom-color: var(--fill-color);\n",
              "    }\n",
              "    90% {\n",
              "      border-color: transparent;\n",
              "      border-bottom-color: var(--fill-color);\n",
              "    }\n",
              "  }\n",
              "</style>\n",
              "\n",
              "  <script>\n",
              "    async function quickchart(key) {\n",
              "      const quickchartButtonEl =\n",
              "        document.querySelector('#' + key + ' button');\n",
              "      quickchartButtonEl.disabled = true;  // To prevent multiple clicks.\n",
              "      quickchartButtonEl.classList.add('colab-df-spinner');\n",
              "      try {\n",
              "        const charts = await google.colab.kernel.invokeFunction(\n",
              "            'suggestCharts', [key], {});\n",
              "      } catch (error) {\n",
              "        console.error('Error during call to suggestCharts:', error);\n",
              "      }\n",
              "      quickchartButtonEl.classList.remove('colab-df-spinner');\n",
              "      quickchartButtonEl.classList.add('colab-df-quickchart-complete');\n",
              "    }\n",
              "    (() => {\n",
              "      let quickchartButtonEl =\n",
              "        document.querySelector('#df-804fc751-d614-4181-bb71-fb4adac61a76 button');\n",
              "      quickchartButtonEl.style.display =\n",
              "        google.colab.kernel.accessAllowed ? 'block' : 'none';\n",
              "    })();\n",
              "  </script>\n",
              "</div>\n",
              "\n",
              "    </div>\n",
              "  </div>\n"
            ],
            "application/vnd.google.colaboratory.intrinsic+json": {
              "type": "dataframe",
              "variable_name": "dt",
              "summary": "{\n  \"name\": \"dt\",\n  \"rows\": 459,\n  \"fields\": [\n    {\n      \"column\": 0,\n      \"properties\": {\n        \"dtype\": \"category\",\n        \"num_unique_values\": 27,\n        \"samples\": [\n          \"We often pontificate here about being the representatives of the citizens of Europe.\",\n          \"Mr President, the Cashman report can be summarised in four words: citizens' power over bureaucracy.\",\n          \"(Parliament adopted the legislative resolution)\"\n        ],\n        \"semantic_type\": \"\",\n        \"description\": \"\"\n      }\n    },\n    {\n      \"column\": 1,\n      \"properties\": {\n        \"dtype\": \"string\",\n        \"num_unique_values\": 317,\n        \"samples\": [\n          \"The amendment 7 proposes some changes in the references to the paragraphs.\",\n          \"It is of our duty of continuing press Latvia on the question of the integration of the Russian population.\",\n          \"I insist on reminding you that among our allies, there are devotees of this tax.\"\n        ],\n        \"semantic_type\": \"\",\n        \"description\": \"\"\n      }\n    },\n    {\n      \"column\": \"gs\",\n      \"properties\": {\n        \"dtype\": \"number\",\n        \"std\": 0.5160896193771509,\n        \"min\": 1.5,\n        \"max\": 5.0,\n        \"num_unique_values\": 26,\n        \"samples\": [\n          4.333,\n          4.2,\n          4.5\n        ],\n        \"semantic_type\": \"\",\n        \"description\": \"\"\n      }\n    },\n    {\n      \"column\": \"gs_normalized\",\n      \"properties\": {\n        \"dtype\": \"number\",\n        \"std\": 0.10321792387543043,\n        \"min\": 0.3,\n        \"max\": 1.0,\n        \"num_unique_values\": 26,\n        \"samples\": [\n          0.8666,\n          0.8400000000000001,\n          0.9\n        ],\n        \"semantic_type\": \"\",\n        \"description\": \"\"\n      }\n    },\n    {\n      \"column\": \"jaccard\",\n      \"properties\": {\n        \"dtype\": \"number\",\n        \"std\": 0.2433988709536509,\n        \"min\": 0.052631578947368474,\n        \"max\": 1.0,\n        \"num_unique_values\": 95,\n        \"samples\": [\n          0.2777777777777778,\n          0.4375,\n          0.1875\n        ],\n        \"semantic_type\": \"\",\n        \"description\": \"\"\n      }\n    },\n    {\n      \"column\": \"jaccard_lemmatized\",\n      \"properties\": {\n        \"dtype\": \"number\",\n        \"std\": 0.23130705899396312,\n        \"min\": 0.11111111111111116,\n        \"max\": 1.0,\n        \"num_unique_values\": 89,\n        \"samples\": [\n          0.7692307692307692,\n          0.47619047619047616,\n          0.37037037037037035\n        ],\n        \"semantic_type\": \"\",\n        \"description\": \"\"\n      }\n    },\n    {\n      \"column\": \"previous_best_jaccard\",\n      \"properties\": {\n        \"dtype\": \"number\",\n        \"std\": 0.25121645860296854,\n        \"min\": 0.050000000000000044,\n        \"max\": 1.0,\n        \"num_unique_values\": 85,\n        \"samples\": [\n          0.050000000000000044,\n          0.3913043478260869,\n          0.26315789473684215\n        ],\n        \"semantic_type\": \"\",\n        \"description\": \"\"\n      }\n    },\n    {\n      \"column\": \"jaccard_preprocessed_lemmatized\",\n      \"properties\": {\n        \"dtype\": \"number\",\n        \"std\": 0.24632988568143419,\n        \"min\": 0.050000000000000044,\n        \"max\": 1.0,\n        \"num_unique_values\": 83,\n        \"samples\": [\n          0.42105263157894735,\n          0.3913043478260869,\n          0.4375\n        ],\n        \"semantic_type\": \"\",\n        \"description\": \"\"\n      }\n    }\n  ]\n}"
            }
          },
          "metadata": {},
          "execution_count": 17
        }
      ]
    },
    {
      "cell_type": "markdown",
      "source": [
        "## **Step 9: Computing correlation between preprocessed tokenization and preprocessed lemmatization**"
      ],
      "metadata": {
        "id": "jtU4XU8tGni6"
      }
    },
    {
      "cell_type": "code",
      "source": [
        "correlation = compute_pearson_correlation(dt['gs_normalized'], dt['previous_best_jaccard'])\n",
        "correlation_lemmatized = compute_pearson_correlation(dt['gs_normalized'], dt['jaccard_preprocessed_lemmatized'])\n",
        "print(f\"Correlation comparing the Jaccard similarity based on preprocessing tokenization:  {correlation:.4f}\")\n",
        "print(f\"Correlation comparing the Jaccard similarity based on preprocessing and lemmatization:  {correlation_lemmatized:.4f}\")"
      ],
      "metadata": {
        "colab": {
          "base_uri": "https://localhost:8080/"
        },
        "id": "L1YRKWdkEJ5a",
        "outputId": "ac82adca-907b-4457-872e-9fc2db96903b"
      },
      "execution_count": null,
      "outputs": [
        {
          "output_type": "stream",
          "name": "stdout",
          "text": [
            "Correlation comparing the Jaccard similarity based on preprocessing tokenization:  0.4823\n",
            "Correlation comparing the Jaccard similarity based on preprocessing and lemmatization:  0.4762\n"
          ]
        }
      ]
    },
    {
      "cell_type": "markdown",
      "source": [
        "## **Step 10: Adding some more preprocessing steps to lemmatization process**"
      ],
      "metadata": {
        "id": "XSSKaEXJG9a3"
      }
    },
    {
      "cell_type": "code",
      "source": [
        "#Removing Stopwords\n",
        "sw = set(stopwords.words('english'))\n",
        "\n",
        "def preprocess_and_lemmatize(sentence, preprocessing):\n",
        "    # Preprocessing the sentence\n",
        "    preprocessed_sentence = preprocessing(sentence)\n",
        "    # Tokenize the preprocessed sentence and then remove stopwords\n",
        "    tokens = word_tokenize(preprocessed_sentence)\n",
        "    filtered_tokens = {token for token in tokens if token not in sw}\n",
        "    # Perform POS tagging on the tokens\n",
        "    pos_tags = nltk.pos_tag(filtered_tokens)\n",
        "    # Lemmatize the tokens based on their POS tags\n",
        "    lemmatized_tokens = {lemmatize((word, pos)) for word, pos in pos_tags}\n",
        "\n",
        "\n",
        "    return lemmatized_tokens\n",
        "\n"
      ],
      "metadata": {
        "id": "Sjaa_-01HMe9"
      },
      "execution_count": null,
      "outputs": []
    },
    {
      "cell_type": "code",
      "source": [
        "# Add the computed values in a new column\n",
        "dt['jaccard_lemmatized_sw'] = dt.apply(lambda row: compute_jaccard_similarity(\n",
        "    preprocess_and_lemmatize(row[0], previous_preprocessing),\n",
        "    preprocess_and_lemmatize(row[1], previous_preprocessing)), axis=1)"
      ],
      "metadata": {
        "id": "sxgK9d5ITkSs"
      },
      "execution_count": null,
      "outputs": []
    },
    {
      "cell_type": "code",
      "source": [
        "correlation_lemmatized_sw = compute_pearson_correlation(dt['gs_normalized'], dt['jaccard_lemmatized_sw'])\n",
        "print(f\"Correlation comparing the Jaccard similarity based on preprocessing, removing stopwords and lemmatization:  {correlation_lemmatized_sw:.4f}\")"
      ],
      "metadata": {
        "colab": {
          "base_uri": "https://localhost:8080/"
        },
        "id": "5nLMAZx2TyuU",
        "outputId": "0459186d-e4b6-44de-d7dd-7c225848bbaf"
      },
      "execution_count": null,
      "outputs": [
        {
          "output_type": "stream",
          "name": "stdout",
          "text": [
            "Correlation comparing the Jaccard similarity based on preprocessing, removing stopwords and lemmatization:  0.4872\n"
          ]
        }
      ]
    },
    {
      "cell_type": "markdown",
      "source": [
        "# **Question Answers**\n",
        "\n",
        "1) Using lemmas is preferable, and it gives a better score because it converts the tokens into their base form propose, proposed, proposing -> propose .So it avoids treating different forms of the same word as different ones.\n",
        "\n",
        "\n",
        "2) No because lemmas as we said above perform better. Words may perform better when we have to do stylistic or sentiment analysis . For example :\n",
        "\n",
        "I was sick.\n",
        "\n",
        "I am sick.\n",
        "\n",
        "The difference between present and past tense can indicate different sentiments. By lemmatizing it , the nuance will be lost. This is more used in the poetry texts.\n",
        "\n",
        "\n",
        "## **Conclusions:**\n",
        " In our previous lab we didn't remove the stopwords so when we use the same preprocessing technique with lemmas we get a lower correlation. This happens because the number of unique words increases, this means higher dimensionality in feature representations."
      ],
      "metadata": {
        "id": "8n9MoO3Gvz76"
      }
    }
  ]
}