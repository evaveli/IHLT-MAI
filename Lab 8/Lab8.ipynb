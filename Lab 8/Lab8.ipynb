{
  "nbformat": 4,
  "nbformat_minor": 0,
  "metadata": {
    "colab": {
      "provenance": []
    },
    "kernelspec": {
      "name": "python3",
      "display_name": "Python 3"
    },
    "language_info": {
      "name": "python"
    }
  },
  "cells": [
    {
      "cell_type": "markdown",
      "source": [
        "## **Import the neccessary libraries**"
      ],
      "metadata": {
        "id": "2x8W4N-F2MdM"
      }
    },
    {
      "cell_type": "code",
      "source": [
        "!pip install svgling"
      ],
      "metadata": {
        "colab": {
          "base_uri": "https://localhost:8080/"
        },
        "id": "YvmgpRvM3bTw",
        "outputId": "1067d3c5-aef5-4c5e-b336-bd83755ca0ca"
      },
      "execution_count": null,
      "outputs": [
        {
          "output_type": "stream",
          "name": "stdout",
          "text": [
            "Collecting svgling\n",
            "  Downloading svgling-0.5.0-py3-none-any.whl.metadata (7.4 kB)\n",
            "Collecting svgwrite (from svgling)\n",
            "  Downloading svgwrite-1.4.3-py3-none-any.whl.metadata (8.8 kB)\n",
            "Downloading svgling-0.5.0-py3-none-any.whl (31 kB)\n",
            "Downloading svgwrite-1.4.3-py3-none-any.whl (67 kB)\n",
            "\u001b[2K   \u001b[90m━━━━━━━━━━━━━━━━━━━━━━━━━━━━━━━━━━━━━━━━\u001b[0m \u001b[32m67.1/67.1 kB\u001b[0m \u001b[31m3.3 MB/s\u001b[0m eta \u001b[36m0:00:00\u001b[0m\n",
            "\u001b[?25hInstalling collected packages: svgwrite, svgling\n",
            "Successfully installed svgling-0.5.0 svgwrite-1.4.3\n"
          ]
        }
      ]
    },
    {
      "cell_type": "code",
      "execution_count": null,
      "metadata": {
        "id": "szXItASG2GNF"
      },
      "outputs": [],
      "source": [
        "import nltk\n",
        "import svgling\n",
        "import pandas as pd\n",
        "from nltk.metrics import jaccard_distance\n",
        "import nltk\n",
        "from nltk import CFG, ChartParser, BottomUpChartParser, BottomUpLeftCornerChartParser, LeftCornerChartParser"
      ]
    },
    {
      "cell_type": "markdown",
      "source": [
        "## **Expand the grammar**"
      ],
      "metadata": {
        "id": "McGkVmyD3WVI"
      }
    },
    {
      "cell_type": "markdown",
      "source": [
        "Lazy cats play with mice."
      ],
      "metadata": {
        "id": "8nbGIErK3vCX"
      }
    },
    {
      "cell_type": "code",
      "source": [
        "grammar = CFG.fromstring('''\n",
        "  S  -> NP VP | NP\n",
        "  NP  -> NNS | JJ NNS | NP CC NP\n",
        "  NNS -> \"cats\" |\"dogs\" | \"mice\" | NNS CC NNS\n",
        "  JJ  -> \"big\" | \"small\" | \"lazy\"\n",
        "  CC  -> \"and\" | \"or\"\n",
        "  VP  -> VT PP\n",
        "  VT  -> \"play\"\n",
        "  PP  -> IN NP\n",
        "  IN  -> \"with\"\n",
        "  ''')"
      ],
      "metadata": {
        "id": "1IuFBovC3d0j"
      },
      "execution_count": null,
      "outputs": []
    },
    {
      "cell_type": "markdown",
      "source": [
        "This grammar is desiged to work with both sentences, the one from the slides : \"small cats and mice\" and also the one from the exercise : \"Lazy cats play with mice\""
      ],
      "metadata": {
        "id": "_KN8gDtL9CKM"
      }
    },
    {
      "cell_type": "markdown",
      "source": [
        "## **Define Parsers**"
      ],
      "metadata": {
        "id": "TKB_iElA4glF"
      }
    },
    {
      "cell_type": "markdown",
      "source": [
        "We define four different parsers in NLTK, each implementing a unique parsing strategy:\n",
        "\n",
        "* ChartParser - For each rule defined by a specific strategy, apply that rule to all relevant edges in the chart. Continue this process repeatedly until no additional edges are generated. The chosen strategy dictates how new edges are incorporated into the chart. Specifically, in the case of the generic parser, the strategy examines:\n",
        "\n",
        "    1.  Identifying new edges that can be added without\n",
        "considering any existing edges.\n",
        "    2.  Determining new edges based on one particular existing edge.\n",
        "    3. Creating new edges by combining a specific pair of existing edges.\n",
        "\n",
        "* BottomUpChartParser -Implements a bottom-up parsing strategy, starting from the words (leaves) of the sentence and building up to the root (start symbol).\n",
        "    1. Start with an empty chart that will store partial parses.\n",
        "    2. Begin by adding edges for all terminal symbols (words) in the input, based on the grammar.\n",
        "    3. For each rule in the grammar, check if the current edges in the chart can form the right-hand side of a production rule. If they match, create a new edge for the left-hand side of the rule and add it to the chart.\n",
        "    4. Continue applying grammar rules to the edges in the chart iteratively until no new edges can be generated.\n",
        "    5. Verify if the start symbol (goal symbol) spans the entire input sentence. If it does, the parsing is successful.\n",
        "\n",
        "* BottomUpLeftCornerChartParser - A refinement of the bottom-up strategy that combines elements of top-down prediction with bottom-up parsing. The parser first identifies a \"left corner\" (the first symbol in a production rule) to guide parsing, reducing some redundant derivations.\n",
        "\n",
        "* LeftCornerChartParser - Implements left-corner parsing, which is a hybrid between top-down and bottom-up parsing. Begins parsing by identifying the left corner of a production rule and incrementally building the parse tree.\n",
        "\n",
        "\n",
        "We have defined two variables for each parser:\n",
        "\n",
        "* One with trace=0, suppressing tracing output, used when parsing a sentence for visualization (drawing the parse tree).\n",
        "* One with trace=1, enabling tracing output, used to analyze the parsing process step by step."
      ],
      "metadata": {
        "id": "jflrDev-CmDs"
      }
    },
    {
      "cell_type": "code",
      "source": [
        "chart_parser_with_trace = ChartParser(grammar, trace=1)\n",
        "bottom_up_chart_parser_with_trace = BottomUpChartParser(grammar, trace=1)\n",
        "bottom_up_left_corner_chart_parser_with_trace = BottomUpLeftCornerChartParser(grammar, trace=1)\n",
        "left_corner_chart_parser_with_trace = LeftCornerChartParser(grammar, trace=1)\n",
        "\n",
        "chart_parser_no_trace = ChartParser(grammar, trace=0)\n",
        "bottom_up_chart_parser_no_trace = BottomUpChartParser(grammar, trace=0)\n",
        "bottom_up_left_corner_chart_parser_no_trace = BottomUpLeftCornerChartParser(grammar, trace=0)\n",
        "left_corner_chart_parser_no_trace = LeftCornerChartParser(grammar, trace=0)\n"
      ],
      "metadata": {
        "id": "dkVmngLV4kVS"
      },
      "execution_count": null,
      "outputs": []
    },
    {
      "cell_type": "code",
      "source": [
        "#Function to get the list of explored edges and the number of edges for each parsing strategy\n",
        "def create_results(model_no_trace,model_with_trace,sentence):\n",
        "  print(\"List of explored edges:\\n\")\n",
        "  parsed_sentence = model_no_trace.parse(sentence)\n",
        "  parser = model_with_trace.chart_parse(sentence)\n",
        "  print(\"Number of edges =\",parser.num_edges())\n",
        "  return parsed_sentence\n"
      ],
      "metadata": {
        "id": "PIOUPglrecPx"
      },
      "execution_count": null,
      "outputs": []
    },
    {
      "cell_type": "markdown",
      "source": [
        "## **Grammer check**"
      ],
      "metadata": {
        "id": "_VtyWhTc4o4M"
      }
    },
    {
      "cell_type": "markdown",
      "source": [
        "### **Checking the lab's slide example**"
      ],
      "metadata": {
        "id": "PQzUGu-g_d66"
      }
    },
    {
      "cell_type": "code",
      "source": [
        "sentence2 = ['small','cats','and','mice'] # to check for the example from the lab slides"
      ],
      "metadata": {
        "id": "uIVlRMN2eBeJ"
      },
      "execution_count": null,
      "outputs": []
    },
    {
      "cell_type": "code",
      "source": [
        "parsed_sentence = create_results(chart_parser_no_trace,chart_parser_with_trace, sentence2)\n"
      ],
      "metadata": {
        "colab": {
          "base_uri": "https://localhost:8080/"
        },
        "id": "dtTcNg5LfOT5",
        "outputId": "9999f3e2-285a-4f28-d3bc-9b020ac20b1a"
      },
      "execution_count": null,
      "outputs": [
        {
          "output_type": "stream",
          "name": "stdout",
          "text": [
            "List of explored edges:\n",
            "\n",
            "|.  small  .   cats  .   and   .   mice  .|\n",
            "|[---------]         .         .         .| [0:1] 'small'\n",
            "|.         [---------]         .         .| [1:2] 'cats'\n",
            "|.         .         [---------]         .| [2:3] 'and'\n",
            "|.         .         .         [---------]| [3:4] 'mice'\n",
            "|[---------]         .         .         .| [0:1] JJ -> 'small' *\n",
            "|[--------->         .         .         .| [0:1] NP -> JJ * NNS\n",
            "|.         [---------]         .         .| [1:2] NNS -> 'cats' *\n",
            "|.         [---------]         .         .| [1:2] NP -> NNS *\n",
            "|.         [--------->         .         .| [1:2] NNS -> NNS * CC NNS\n",
            "|[-------------------]         .         .| [0:2] NP -> JJ NNS *\n",
            "|[------------------->         .         .| [0:2] S  -> NP * VP\n",
            "|[-------------------]         .         .| [0:2] S  -> NP *\n",
            "|[------------------->         .         .| [0:2] NP -> NP * CC NP\n",
            "|.         [--------->         .         .| [1:2] S  -> NP * VP\n",
            "|.         [---------]         .         .| [1:2] S  -> NP *\n",
            "|.         [--------->         .         .| [1:2] NP -> NP * CC NP\n",
            "|.         .         [---------]         .| [2:3] CC -> 'and' *\n",
            "|.         [------------------->         .| [1:3] NNS -> NNS CC * NNS\n",
            "|[----------------------------->         .| [0:3] NP -> NP CC * NP\n",
            "|.         [------------------->         .| [1:3] NP -> NP CC * NP\n",
            "|.         .         .         [---------]| [3:4] NNS -> 'mice' *\n",
            "|.         .         .         [---------]| [3:4] NP -> NNS *\n",
            "|.         .         .         [--------->| [3:4] NNS -> NNS * CC NNS\n",
            "|.         [-----------------------------]| [1:4] NNS -> NNS CC NNS *\n",
            "|.         [-----------------------------]| [1:4] NP -> NNS *\n",
            "|.         [----------------------------->| [1:4] NNS -> NNS * CC NNS\n",
            "|[=======================================]| [0:4] NP -> JJ NNS *\n",
            "|[--------------------------------------->| [0:4] S  -> NP * VP\n",
            "|[=======================================]| [0:4] S  -> NP *\n",
            "|[--------------------------------------->| [0:4] NP -> NP * CC NP\n",
            "|.         [----------------------------->| [1:4] S  -> NP * VP\n",
            "|.         [-----------------------------]| [1:4] S  -> NP *\n",
            "|.         [----------------------------->| [1:4] NP -> NP * CC NP\n",
            "|.         .         .         [--------->| [3:4] S  -> NP * VP\n",
            "|.         .         .         [---------]| [3:4] S  -> NP *\n",
            "|.         .         .         [--------->| [3:4] NP -> NP * CC NP\n",
            "|[=======================================]| [0:4] NP -> NP CC NP *\n",
            "|.         [-----------------------------]| [1:4] NP -> NP CC NP *\n",
            "|.         [----------------------------->| [1:4] S  -> NP * VP\n",
            "|.         [-----------------------------]| [1:4] S  -> NP *\n",
            "|.         [----------------------------->| [1:4] NP -> NP * CC NP\n",
            "|[--------------------------------------->| [0:4] S  -> NP * VP\n",
            "|[=======================================]| [0:4] S  -> NP *\n",
            "|[--------------------------------------->| [0:4] NP -> NP * CC NP\n",
            "Number of edges = 38\n"
          ]
        }
      ]
    },
    {
      "cell_type": "code",
      "source": [
        "print(\"Resulting Tree\")\n",
        "svgling.draw_tree(list(parsed_sentence)[0])"
      ],
      "metadata": {
        "colab": {
          "base_uri": "https://localhost:8080/",
          "height": 252
        },
        "id": "lqve_I2jjupD",
        "outputId": "a4340a77-0ade-4d7e-ab64-70ad3e55c7a8"
      },
      "execution_count": null,
      "outputs": [
        {
          "output_type": "stream",
          "name": "stdout",
          "text": [
            "Resulting Tree\n"
          ]
        },
        {
          "output_type": "execute_result",
          "data": {
            "text/plain": [
              "TreeLayout(Tree('S', [Tree('NP', [Tree('JJ', ['small']), Tree('NNS', [Tree('NNS', ['cats']), Tree('CC', ['and']), Tree('NNS', ['mice'])])])]))"
            ],
            "image/svg+xml": "<svg baseProfile=\"full\" height=\"216px\" preserveAspectRatio=\"xMidYMid meet\" style=\"font-family: times, serif; font-weight: normal; font-style: normal; font-size: 16px\" version=\"1.1\" viewBox=\"0,0,192.0,216.0\" width=\"192px\" xmlns=\"http://www.w3.org/2000/svg\" xmlns:ev=\"http://www.w3.org/2001/xml-events\" xmlns:xlink=\"http://www.w3.org/1999/xlink\"><defs /><svg width=\"100%\" x=\"0\" y=\"0px\"><defs /><text text-anchor=\"middle\" x=\"50%\" y=\"16px\">S</text></svg><svg width=\"100%\" x=\"0%\" y=\"48px\"><defs /><svg width=\"100%\" x=\"0\" y=\"0px\"><defs /><text text-anchor=\"middle\" x=\"50%\" y=\"16px\">NP</text></svg><svg width=\"29.1667%\" x=\"0%\" y=\"48px\"><defs /><svg width=\"100%\" x=\"0\" y=\"0px\"><defs /><text text-anchor=\"middle\" x=\"50%\" y=\"16px\">JJ</text></svg><svg width=\"100%\" x=\"0%\" y=\"48px\"><defs /><svg width=\"100%\" x=\"0\" y=\"0px\"><defs /><text text-anchor=\"middle\" x=\"50%\" y=\"16px\">small</text></svg></svg><line stroke=\"black\" x1=\"50%\" x2=\"50%\" y1=\"20px\" y2=\"48px\" /></svg><line stroke=\"black\" x1=\"50%\" x2=\"14.5833%\" y1=\"20px\" y2=\"48px\" /><svg width=\"70.8333%\" x=\"29.1667%\" y=\"48px\"><defs /><svg width=\"100%\" x=\"0\" y=\"0px\"><defs /><text text-anchor=\"middle\" x=\"50%\" y=\"16px\">NNS</text></svg><svg width=\"35.2941%\" x=\"0%\" y=\"48px\"><defs /><svg width=\"100%\" x=\"0\" y=\"0px\"><defs /><text text-anchor=\"middle\" x=\"50%\" y=\"16px\">NNS</text></svg><svg width=\"100%\" x=\"0%\" y=\"48px\"><defs /><svg width=\"100%\" x=\"0\" y=\"0px\"><defs /><text text-anchor=\"middle\" x=\"50%\" y=\"16px\">cats</text></svg></svg><line stroke=\"black\" x1=\"50%\" x2=\"50%\" y1=\"20px\" y2=\"48px\" /></svg><line stroke=\"black\" x1=\"50%\" x2=\"17.6471%\" y1=\"20px\" y2=\"48px\" /><svg width=\"29.4118%\" x=\"35.2941%\" y=\"48px\"><defs /><svg width=\"100%\" x=\"0\" y=\"0px\"><defs /><text text-anchor=\"middle\" x=\"50%\" y=\"16px\">CC</text></svg><svg width=\"100%\" x=\"0%\" y=\"48px\"><defs /><svg width=\"100%\" x=\"0\" y=\"0px\"><defs /><text text-anchor=\"middle\" x=\"50%\" y=\"16px\">and</text></svg></svg><line stroke=\"black\" x1=\"50%\" x2=\"50%\" y1=\"20px\" y2=\"48px\" /></svg><line stroke=\"black\" x1=\"50%\" x2=\"50%\" y1=\"20px\" y2=\"48px\" /><svg width=\"35.2941%\" x=\"64.7059%\" y=\"48px\"><defs /><svg width=\"100%\" x=\"0\" y=\"0px\"><defs /><text text-anchor=\"middle\" x=\"50%\" y=\"16px\">NNS</text></svg><svg width=\"100%\" x=\"0%\" y=\"48px\"><defs /><svg width=\"100%\" x=\"0\" y=\"0px\"><defs /><text text-anchor=\"middle\" x=\"50%\" y=\"16px\">mice</text></svg></svg><line stroke=\"black\" x1=\"50%\" x2=\"50%\" y1=\"20px\" y2=\"48px\" /></svg><line stroke=\"black\" x1=\"50%\" x2=\"82.3529%\" y1=\"20px\" y2=\"48px\" /></svg><line stroke=\"black\" x1=\"50%\" x2=\"64.5833%\" y1=\"20px\" y2=\"48px\" /></svg><line stroke=\"black\" x1=\"50%\" x2=\"50%\" y1=\"20px\" y2=\"48px\" /></svg>"
          },
          "metadata": {},
          "execution_count": 8
        }
      ]
    },
    {
      "cell_type": "markdown",
      "source": [
        "As we can see the grammer works good with the example from slides. Since here we need to have a Start symbol the only thing that has changed is the addition of that. The number of edges explored here is higher than the ones in the slides because we have the root (start symbol) added."
      ],
      "metadata": {
        "id": "yE3paBhl_AUp"
      }
    },
    {
      "cell_type": "markdown",
      "source": [
        "### **Checking exercise example**"
      ],
      "metadata": {
        "id": "BsGMBjf9A1A1"
      }
    },
    {
      "cell_type": "code",
      "source": [
        "sentence = [\"lazy\", \"cats\", \"play\", \"with\", \"mice\"]"
      ],
      "metadata": {
        "id": "bd02YgD-72ti"
      },
      "execution_count": null,
      "outputs": []
    },
    {
      "cell_type": "code",
      "source": [
        "parsed_sentence = create_results(chart_parser_no_trace,chart_parser_with_trace, sentence)\n"
      ],
      "metadata": {
        "colab": {
          "base_uri": "https://localhost:8080/"
        },
        "id": "V00fNVG0iHa3",
        "outputId": "5a37f523-6ed5-421d-ed82-82984792b47b"
      },
      "execution_count": null,
      "outputs": [
        {
          "output_type": "stream",
          "name": "stdout",
          "text": [
            "List of explored edges:\n",
            "\n",
            "|.  lazy .  cats .  play .  with .  mice .|\n",
            "|[-------]       .       .       .       .| [0:1] 'lazy'\n",
            "|.       [-------]       .       .       .| [1:2] 'cats'\n",
            "|.       .       [-------]       .       .| [2:3] 'play'\n",
            "|.       .       .       [-------]       .| [3:4] 'with'\n",
            "|.       .       .       .       [-------]| [4:5] 'mice'\n",
            "|[-------]       .       .       .       .| [0:1] JJ -> 'lazy' *\n",
            "|[------->       .       .       .       .| [0:1] NP -> JJ * NNS\n",
            "|.       [-------]       .       .       .| [1:2] NNS -> 'cats' *\n",
            "|.       [-------]       .       .       .| [1:2] NP -> NNS *\n",
            "|.       [------->       .       .       .| [1:2] NNS -> NNS * CC NNS\n",
            "|[---------------]       .       .       .| [0:2] NP -> JJ NNS *\n",
            "|[--------------->       .       .       .| [0:2] S  -> NP * VP\n",
            "|[---------------]       .       .       .| [0:2] S  -> NP *\n",
            "|[--------------->       .       .       .| [0:2] NP -> NP * CC NP\n",
            "|.       [------->       .       .       .| [1:2] S  -> NP * VP\n",
            "|.       [-------]       .       .       .| [1:2] S  -> NP *\n",
            "|.       [------->       .       .       .| [1:2] NP -> NP * CC NP\n",
            "|.       .       [-------]       .       .| [2:3] VT -> 'play' *\n",
            "|.       .       [------->       .       .| [2:3] VP -> VT * PP\n",
            "|.       .       .       [-------]       .| [3:4] IN -> 'with' *\n",
            "|.       .       .       [------->       .| [3:4] PP -> IN * NP\n",
            "|.       .       .       .       [-------]| [4:5] NNS -> 'mice' *\n",
            "|.       .       .       .       [-------]| [4:5] NP -> NNS *\n",
            "|.       .       .       .       [------->| [4:5] NNS -> NNS * CC NNS\n",
            "|.       .       .       .       [------->| [4:5] S  -> NP * VP\n",
            "|.       .       .       .       [-------]| [4:5] S  -> NP *\n",
            "|.       .       .       .       [------->| [4:5] NP -> NP * CC NP\n",
            "|.       .       .       [---------------]| [3:5] PP -> IN NP *\n",
            "|.       .       [-----------------------]| [2:5] VP -> VT PP *\n",
            "|[=======================================]| [0:5] S  -> NP VP *\n",
            "|.       [-------------------------------]| [1:5] S  -> NP VP *\n",
            "Number of edges = 31\n"
          ]
        }
      ]
    },
    {
      "cell_type": "code",
      "source": [
        "print(\"Resulting Tree\")\n",
        "svgling.draw_tree(list(parsed_sentence)[0])"
      ],
      "metadata": {
        "colab": {
          "base_uri": "https://localhost:8080/",
          "height": 300
        },
        "id": "dGiym-A0jXnY",
        "outputId": "83504894-3b03-4ca3-9e13-4f741970c99a"
      },
      "execution_count": null,
      "outputs": [
        {
          "output_type": "stream",
          "name": "stdout",
          "text": [
            "Resulting Tree\n"
          ]
        },
        {
          "output_type": "execute_result",
          "data": {
            "text/plain": [
              "TreeLayout(Tree('S', [Tree('NP', [Tree('JJ', ['lazy']), Tree('NNS', ['cats'])]), Tree('VP', [Tree('VT', ['play']), Tree('PP', [Tree('IN', ['with']), Tree('NP', [Tree('NNS', ['mice'])])])])]))"
            ],
            "image/svg+xml": "<svg baseProfile=\"full\" height=\"264px\" preserveAspectRatio=\"xMidYMid meet\" style=\"font-family: times, serif; font-weight: normal; font-style: normal; font-size: 16px\" version=\"1.1\" viewBox=\"0,0,240.0,264.0\" width=\"240px\" xmlns=\"http://www.w3.org/2000/svg\" xmlns:ev=\"http://www.w3.org/2001/xml-events\" xmlns:xlink=\"http://www.w3.org/1999/xlink\"><defs /><svg width=\"100%\" x=\"0\" y=\"0px\"><defs /><text text-anchor=\"middle\" x=\"50%\" y=\"16px\">S</text></svg><svg width=\"40%\" x=\"0%\" y=\"48px\"><defs /><svg width=\"100%\" x=\"0\" y=\"0px\"><defs /><text text-anchor=\"middle\" x=\"50%\" y=\"16px\">NP</text></svg><svg width=\"50%\" x=\"0%\" y=\"48px\"><defs /><svg width=\"100%\" x=\"0\" y=\"0px\"><defs /><text text-anchor=\"middle\" x=\"50%\" y=\"16px\">JJ</text></svg><svg width=\"100%\" x=\"0%\" y=\"48px\"><defs /><svg width=\"100%\" x=\"0\" y=\"0px\"><defs /><text text-anchor=\"middle\" x=\"50%\" y=\"16px\">lazy</text></svg></svg><line stroke=\"black\" x1=\"50%\" x2=\"50%\" y1=\"20px\" y2=\"48px\" /></svg><line stroke=\"black\" x1=\"50%\" x2=\"25%\" y1=\"20px\" y2=\"48px\" /><svg width=\"50%\" x=\"50%\" y=\"48px\"><defs /><svg width=\"100%\" x=\"0\" y=\"0px\"><defs /><text text-anchor=\"middle\" x=\"50%\" y=\"16px\">NNS</text></svg><svg width=\"100%\" x=\"0%\" y=\"48px\"><defs /><svg width=\"100%\" x=\"0\" y=\"0px\"><defs /><text text-anchor=\"middle\" x=\"50%\" y=\"16px\">cats</text></svg></svg><line stroke=\"black\" x1=\"50%\" x2=\"50%\" y1=\"20px\" y2=\"48px\" /></svg><line stroke=\"black\" x1=\"50%\" x2=\"75%\" y1=\"20px\" y2=\"48px\" /></svg><line stroke=\"black\" x1=\"50%\" x2=\"20%\" y1=\"20px\" y2=\"48px\" /><svg width=\"60%\" x=\"40%\" y=\"48px\"><defs /><svg width=\"100%\" x=\"0\" y=\"0px\"><defs /><text text-anchor=\"middle\" x=\"50%\" y=\"16px\">VP</text></svg><svg width=\"33.3333%\" x=\"0%\" y=\"48px\"><defs /><svg width=\"100%\" x=\"0\" y=\"0px\"><defs /><text text-anchor=\"middle\" x=\"50%\" y=\"16px\">VT</text></svg><svg width=\"100%\" x=\"0%\" y=\"48px\"><defs /><svg width=\"100%\" x=\"0\" y=\"0px\"><defs /><text text-anchor=\"middle\" x=\"50%\" y=\"16px\">play</text></svg></svg><line stroke=\"black\" x1=\"50%\" x2=\"50%\" y1=\"20px\" y2=\"48px\" /></svg><line stroke=\"black\" x1=\"50%\" x2=\"16.6667%\" y1=\"20px\" y2=\"48px\" /><svg width=\"66.6667%\" x=\"33.3333%\" y=\"48px\"><defs /><svg width=\"100%\" x=\"0\" y=\"0px\"><defs /><text text-anchor=\"middle\" x=\"50%\" y=\"16px\">PP</text></svg><svg width=\"50%\" x=\"0%\" y=\"48px\"><defs /><svg width=\"100%\" x=\"0\" y=\"0px\"><defs /><text text-anchor=\"middle\" x=\"50%\" y=\"16px\">IN</text></svg><svg width=\"100%\" x=\"0%\" y=\"48px\"><defs /><svg width=\"100%\" x=\"0\" y=\"0px\"><defs /><text text-anchor=\"middle\" x=\"50%\" y=\"16px\">with</text></svg></svg><line stroke=\"black\" x1=\"50%\" x2=\"50%\" y1=\"20px\" y2=\"48px\" /></svg><line stroke=\"black\" x1=\"50%\" x2=\"25%\" y1=\"20px\" y2=\"48px\" /><svg width=\"50%\" x=\"50%\" y=\"48px\"><defs /><svg width=\"100%\" x=\"0\" y=\"0px\"><defs /><text text-anchor=\"middle\" x=\"50%\" y=\"16px\">NP</text></svg><svg width=\"100%\" x=\"0%\" y=\"48px\"><defs /><svg width=\"100%\" x=\"0\" y=\"0px\"><defs /><text text-anchor=\"middle\" x=\"50%\" y=\"16px\">NNS</text></svg><svg width=\"100%\" x=\"0%\" y=\"48px\"><defs /><svg width=\"100%\" x=\"0\" y=\"0px\"><defs /><text text-anchor=\"middle\" x=\"50%\" y=\"16px\">mice</text></svg></svg><line stroke=\"black\" x1=\"50%\" x2=\"50%\" y1=\"20px\" y2=\"48px\" /></svg><line stroke=\"black\" x1=\"50%\" x2=\"50%\" y1=\"20px\" y2=\"48px\" /></svg><line stroke=\"black\" x1=\"50%\" x2=\"75%\" y1=\"20px\" y2=\"48px\" /></svg><line stroke=\"black\" x1=\"50%\" x2=\"66.6667%\" y1=\"20px\" y2=\"48px\" /></svg><line stroke=\"black\" x1=\"50%\" x2=\"70%\" y1=\"20px\" y2=\"48px\" /></svg>"
          },
          "metadata": {},
          "execution_count": 11
        }
      ]
    },
    {
      "cell_type": "markdown",
      "source": [
        "From the ChartParser we can see that the generated tree is correct. We are going to try some other parsing strategies and see how the efficency and performance will be."
      ],
      "metadata": {
        "id": "5CcMcgRkBEaD"
      }
    },
    {
      "cell_type": "markdown",
      "source": [
        "## **Performing the constituency parsing using other parsers**"
      ],
      "metadata": {
        "id": "_2rKwNxs5gKv"
      }
    },
    {
      "cell_type": "markdown",
      "source": [
        "### **BottomUpChartParser**"
      ],
      "metadata": {
        "id": "aD_aGzfi5m-n"
      }
    },
    {
      "cell_type": "code",
      "source": [
        "parsed_sentence = create_results(bottom_up_chart_parser_no_trace,bottom_up_chart_parser_with_trace,sentence)"
      ],
      "metadata": {
        "colab": {
          "base_uri": "https://localhost:8080/"
        },
        "id": "pxdsqmRygB7b",
        "outputId": "c428e874-db42-4dd0-e5ef-31ab7a10cbb7"
      },
      "execution_count": null,
      "outputs": [
        {
          "output_type": "stream",
          "name": "stdout",
          "text": [
            "List of explored edges:\n",
            "\n",
            "|.  lazy .  cats .  play .  with .  mice .|\n",
            "|[-------]       .       .       .       .| [0:1] 'lazy'\n",
            "|.       [-------]       .       .       .| [1:2] 'cats'\n",
            "|.       .       [-------]       .       .| [2:3] 'play'\n",
            "|.       .       .       [-------]       .| [3:4] 'with'\n",
            "|.       .       .       .       [-------]| [4:5] 'mice'\n",
            "|>       .       .       .       .       .| [0:0] JJ -> * 'lazy'\n",
            "|[-------]       .       .       .       .| [0:1] JJ -> 'lazy' *\n",
            "|>       .       .       .       .       .| [0:0] NP -> * JJ NNS\n",
            "|[------->       .       .       .       .| [0:1] NP -> JJ * NNS\n",
            "|.       >       .       .       .       .| [1:1] NNS -> * 'cats'\n",
            "|.       [-------]       .       .       .| [1:2] NNS -> 'cats' *\n",
            "|.       >       .       .       .       .| [1:1] NP -> * NNS\n",
            "|.       >       .       .       .       .| [1:1] NNS -> * NNS CC NNS\n",
            "|[---------------]       .       .       .| [0:2] NP -> JJ NNS *\n",
            "|.       [-------]       .       .       .| [1:2] NP -> NNS *\n",
            "|.       [------->       .       .       .| [1:2] NNS -> NNS * CC NNS\n",
            "|.       >       .       .       .       .| [1:1] S  -> * NP VP\n",
            "|.       >       .       .       .       .| [1:1] S  -> * NP\n",
            "|.       >       .       .       .       .| [1:1] NP -> * NP CC NP\n",
            "|.       [------->       .       .       .| [1:2] S  -> NP * VP\n",
            "|.       [-------]       .       .       .| [1:2] S  -> NP *\n",
            "|.       [------->       .       .       .| [1:2] NP -> NP * CC NP\n",
            "|>       .       .       .       .       .| [0:0] S  -> * NP VP\n",
            "|>       .       .       .       .       .| [0:0] S  -> * NP\n",
            "|>       .       .       .       .       .| [0:0] NP -> * NP CC NP\n",
            "|[--------------->       .       .       .| [0:2] S  -> NP * VP\n",
            "|[---------------]       .       .       .| [0:2] S  -> NP *\n",
            "|[--------------->       .       .       .| [0:2] NP -> NP * CC NP\n",
            "|.       .       >       .       .       .| [2:2] VT -> * 'play'\n",
            "|.       .       [-------]       .       .| [2:3] VT -> 'play' *\n",
            "|.       .       >       .       .       .| [2:2] VP -> * VT PP\n",
            "|.       .       [------->       .       .| [2:3] VP -> VT * PP\n",
            "|.       .       .       >       .       .| [3:3] IN -> * 'with'\n",
            "|.       .       .       [-------]       .| [3:4] IN -> 'with' *\n",
            "|.       .       .       >       .       .| [3:3] PP -> * IN NP\n",
            "|.       .       .       [------->       .| [3:4] PP -> IN * NP\n",
            "|.       .       .       .       >       .| [4:4] NNS -> * 'mice'\n",
            "|.       .       .       .       [-------]| [4:5] NNS -> 'mice' *\n",
            "|.       .       .       .       >       .| [4:4] NP -> * NNS\n",
            "|.       .       .       .       >       .| [4:4] NNS -> * NNS CC NNS\n",
            "|.       .       .       .       [-------]| [4:5] NP -> NNS *\n",
            "|.       .       .       .       [------->| [4:5] NNS -> NNS * CC NNS\n",
            "|.       .       .       .       >       .| [4:4] S  -> * NP VP\n",
            "|.       .       .       .       >       .| [4:4] S  -> * NP\n",
            "|.       .       .       .       >       .| [4:4] NP -> * NP CC NP\n",
            "|.       .       .       [---------------]| [3:5] PP -> IN NP *\n",
            "|.       .       .       .       [------->| [4:5] S  -> NP * VP\n",
            "|.       .       .       .       [-------]| [4:5] S  -> NP *\n",
            "|.       .       .       .       [------->| [4:5] NP -> NP * CC NP\n",
            "|.       .       [-----------------------]| [2:5] VP -> VT PP *\n",
            "|.       [-------------------------------]| [1:5] S  -> NP VP *\n",
            "|[=======================================]| [0:5] S  -> NP VP *\n",
            "Number of edges = 52\n"
          ]
        }
      ]
    },
    {
      "cell_type": "code",
      "source": [
        "print(\"Resulting Tree:\\n\")\n",
        "svgling.draw_tree(list(parsed_sentence)[0])"
      ],
      "metadata": {
        "colab": {
          "base_uri": "https://localhost:8080/",
          "height": 316
        },
        "id": "2s7HAEsK5kWZ",
        "outputId": "ee5606b8-54eb-4e08-e9bd-9de7171ae028"
      },
      "execution_count": null,
      "outputs": [
        {
          "output_type": "stream",
          "name": "stdout",
          "text": [
            "Resulting Tree:\n",
            "\n"
          ]
        },
        {
          "output_type": "execute_result",
          "data": {
            "text/plain": [
              "TreeLayout(Tree('S', [Tree('NP', [Tree('JJ', ['lazy']), Tree('NNS', ['cats'])]), Tree('VP', [Tree('VT', ['play']), Tree('PP', [Tree('IN', ['with']), Tree('NP', [Tree('NNS', ['mice'])])])])]))"
            ],
            "image/svg+xml": "<svg baseProfile=\"full\" height=\"264px\" preserveAspectRatio=\"xMidYMid meet\" style=\"font-family: times, serif; font-weight: normal; font-style: normal; font-size: 16px\" version=\"1.1\" viewBox=\"0,0,240.0,264.0\" width=\"240px\" xmlns=\"http://www.w3.org/2000/svg\" xmlns:ev=\"http://www.w3.org/2001/xml-events\" xmlns:xlink=\"http://www.w3.org/1999/xlink\"><defs /><svg width=\"100%\" x=\"0\" y=\"0px\"><defs /><text text-anchor=\"middle\" x=\"50%\" y=\"16px\">S</text></svg><svg width=\"40%\" x=\"0%\" y=\"48px\"><defs /><svg width=\"100%\" x=\"0\" y=\"0px\"><defs /><text text-anchor=\"middle\" x=\"50%\" y=\"16px\">NP</text></svg><svg width=\"50%\" x=\"0%\" y=\"48px\"><defs /><svg width=\"100%\" x=\"0\" y=\"0px\"><defs /><text text-anchor=\"middle\" x=\"50%\" y=\"16px\">JJ</text></svg><svg width=\"100%\" x=\"0%\" y=\"48px\"><defs /><svg width=\"100%\" x=\"0\" y=\"0px\"><defs /><text text-anchor=\"middle\" x=\"50%\" y=\"16px\">lazy</text></svg></svg><line stroke=\"black\" x1=\"50%\" x2=\"50%\" y1=\"20px\" y2=\"48px\" /></svg><line stroke=\"black\" x1=\"50%\" x2=\"25%\" y1=\"20px\" y2=\"48px\" /><svg width=\"50%\" x=\"50%\" y=\"48px\"><defs /><svg width=\"100%\" x=\"0\" y=\"0px\"><defs /><text text-anchor=\"middle\" x=\"50%\" y=\"16px\">NNS</text></svg><svg width=\"100%\" x=\"0%\" y=\"48px\"><defs /><svg width=\"100%\" x=\"0\" y=\"0px\"><defs /><text text-anchor=\"middle\" x=\"50%\" y=\"16px\">cats</text></svg></svg><line stroke=\"black\" x1=\"50%\" x2=\"50%\" y1=\"20px\" y2=\"48px\" /></svg><line stroke=\"black\" x1=\"50%\" x2=\"75%\" y1=\"20px\" y2=\"48px\" /></svg><line stroke=\"black\" x1=\"50%\" x2=\"20%\" y1=\"20px\" y2=\"48px\" /><svg width=\"60%\" x=\"40%\" y=\"48px\"><defs /><svg width=\"100%\" x=\"0\" y=\"0px\"><defs /><text text-anchor=\"middle\" x=\"50%\" y=\"16px\">VP</text></svg><svg width=\"33.3333%\" x=\"0%\" y=\"48px\"><defs /><svg width=\"100%\" x=\"0\" y=\"0px\"><defs /><text text-anchor=\"middle\" x=\"50%\" y=\"16px\">VT</text></svg><svg width=\"100%\" x=\"0%\" y=\"48px\"><defs /><svg width=\"100%\" x=\"0\" y=\"0px\"><defs /><text text-anchor=\"middle\" x=\"50%\" y=\"16px\">play</text></svg></svg><line stroke=\"black\" x1=\"50%\" x2=\"50%\" y1=\"20px\" y2=\"48px\" /></svg><line stroke=\"black\" x1=\"50%\" x2=\"16.6667%\" y1=\"20px\" y2=\"48px\" /><svg width=\"66.6667%\" x=\"33.3333%\" y=\"48px\"><defs /><svg width=\"100%\" x=\"0\" y=\"0px\"><defs /><text text-anchor=\"middle\" x=\"50%\" y=\"16px\">PP</text></svg><svg width=\"50%\" x=\"0%\" y=\"48px\"><defs /><svg width=\"100%\" x=\"0\" y=\"0px\"><defs /><text text-anchor=\"middle\" x=\"50%\" y=\"16px\">IN</text></svg><svg width=\"100%\" x=\"0%\" y=\"48px\"><defs /><svg width=\"100%\" x=\"0\" y=\"0px\"><defs /><text text-anchor=\"middle\" x=\"50%\" y=\"16px\">with</text></svg></svg><line stroke=\"black\" x1=\"50%\" x2=\"50%\" y1=\"20px\" y2=\"48px\" /></svg><line stroke=\"black\" x1=\"50%\" x2=\"25%\" y1=\"20px\" y2=\"48px\" /><svg width=\"50%\" x=\"50%\" y=\"48px\"><defs /><svg width=\"100%\" x=\"0\" y=\"0px\"><defs /><text text-anchor=\"middle\" x=\"50%\" y=\"16px\">NP</text></svg><svg width=\"100%\" x=\"0%\" y=\"48px\"><defs /><svg width=\"100%\" x=\"0\" y=\"0px\"><defs /><text text-anchor=\"middle\" x=\"50%\" y=\"16px\">NNS</text></svg><svg width=\"100%\" x=\"0%\" y=\"48px\"><defs /><svg width=\"100%\" x=\"0\" y=\"0px\"><defs /><text text-anchor=\"middle\" x=\"50%\" y=\"16px\">mice</text></svg></svg><line stroke=\"black\" x1=\"50%\" x2=\"50%\" y1=\"20px\" y2=\"48px\" /></svg><line stroke=\"black\" x1=\"50%\" x2=\"50%\" y1=\"20px\" y2=\"48px\" /></svg><line stroke=\"black\" x1=\"50%\" x2=\"75%\" y1=\"20px\" y2=\"48px\" /></svg><line stroke=\"black\" x1=\"50%\" x2=\"66.6667%\" y1=\"20px\" y2=\"48px\" /></svg><line stroke=\"black\" x1=\"50%\" x2=\"70%\" y1=\"20px\" y2=\"48px\" /></svg>"
          },
          "metadata": {},
          "execution_count": 13
        }
      ]
    },
    {
      "cell_type": "markdown",
      "source": [
        "### **BottomUpLeftCornerChartParser**"
      ],
      "metadata": {
        "id": "-EjuYGUN6NEx"
      }
    },
    {
      "cell_type": "code",
      "source": [
        "parsed_sentence = create_results(bottom_up_left_corner_chart_parser_no_trace,bottom_up_left_corner_chart_parser_with_trace,sentence)"
      ],
      "metadata": {
        "colab": {
          "base_uri": "https://localhost:8080/"
        },
        "id": "nAMHhDxKgnm4",
        "outputId": "0d03ff5f-50c7-47fa-b470-9d12a9586d94"
      },
      "execution_count": null,
      "outputs": [
        {
          "output_type": "stream",
          "name": "stdout",
          "text": [
            "List of explored edges:\n",
            "\n",
            "|.  lazy .  cats .  play .  with .  mice .|\n",
            "|[-------]       .       .       .       .| [0:1] 'lazy'\n",
            "|.       [-------]       .       .       .| [1:2] 'cats'\n",
            "|.       .       [-------]       .       .| [2:3] 'play'\n",
            "|.       .       .       [-------]       .| [3:4] 'with'\n",
            "|.       .       .       .       [-------]| [4:5] 'mice'\n",
            "|[-------]       .       .       .       .| [0:1] JJ -> 'lazy' *\n",
            "|[------->       .       .       .       .| [0:1] NP -> JJ * NNS\n",
            "|.       [-------]       .       .       .| [1:2] NNS -> 'cats' *\n",
            "|.       [-------]       .       .       .| [1:2] NP -> NNS *\n",
            "|.       [------->       .       .       .| [1:2] NNS -> NNS * CC NNS\n",
            "|[---------------]       .       .       .| [0:2] NP -> JJ NNS *\n",
            "|[--------------->       .       .       .| [0:2] S  -> NP * VP\n",
            "|[---------------]       .       .       .| [0:2] S  -> NP *\n",
            "|[--------------->       .       .       .| [0:2] NP -> NP * CC NP\n",
            "|.       [------->       .       .       .| [1:2] S  -> NP * VP\n",
            "|.       [-------]       .       .       .| [1:2] S  -> NP *\n",
            "|.       [------->       .       .       .| [1:2] NP -> NP * CC NP\n",
            "|.       .       [-------]       .       .| [2:3] VT -> 'play' *\n",
            "|.       .       [------->       .       .| [2:3] VP -> VT * PP\n",
            "|.       .       .       [-------]       .| [3:4] IN -> 'with' *\n",
            "|.       .       .       [------->       .| [3:4] PP -> IN * NP\n",
            "|.       .       .       .       [-------]| [4:5] NNS -> 'mice' *\n",
            "|.       .       .       .       [-------]| [4:5] NP -> NNS *\n",
            "|.       .       .       .       [------->| [4:5] NNS -> NNS * CC NNS\n",
            "|.       .       .       .       [------->| [4:5] S  -> NP * VP\n",
            "|.       .       .       .       [-------]| [4:5] S  -> NP *\n",
            "|.       .       .       .       [------->| [4:5] NP -> NP * CC NP\n",
            "|.       .       .       [---------------]| [3:5] PP -> IN NP *\n",
            "|.       .       [-----------------------]| [2:5] VP -> VT PP *\n",
            "|[=======================================]| [0:5] S  -> NP VP *\n",
            "|.       [-------------------------------]| [1:5] S  -> NP VP *\n",
            "Number of edges = 31\n"
          ]
        }
      ]
    },
    {
      "cell_type": "code",
      "source": [
        "print(\"Resulting Tree:\\n\")\n",
        "svgling.draw_tree(list(parsed_sentence)[0])"
      ],
      "metadata": {
        "colab": {
          "base_uri": "https://localhost:8080/",
          "height": 316
        },
        "id": "G4oyQ6b4gzAk",
        "outputId": "8c7e6349-55ea-423d-c7d9-eb0d8e513669"
      },
      "execution_count": null,
      "outputs": [
        {
          "output_type": "stream",
          "name": "stdout",
          "text": [
            "Resulting Tree:\n",
            "\n"
          ]
        },
        {
          "output_type": "execute_result",
          "data": {
            "text/plain": [
              "TreeLayout(Tree('S', [Tree('NP', [Tree('JJ', ['lazy']), Tree('NNS', ['cats'])]), Tree('VP', [Tree('VT', ['play']), Tree('PP', [Tree('IN', ['with']), Tree('NP', [Tree('NNS', ['mice'])])])])]))"
            ],
            "image/svg+xml": "<svg baseProfile=\"full\" height=\"264px\" preserveAspectRatio=\"xMidYMid meet\" style=\"font-family: times, serif; font-weight: normal; font-style: normal; font-size: 16px\" version=\"1.1\" viewBox=\"0,0,240.0,264.0\" width=\"240px\" xmlns=\"http://www.w3.org/2000/svg\" xmlns:ev=\"http://www.w3.org/2001/xml-events\" xmlns:xlink=\"http://www.w3.org/1999/xlink\"><defs /><svg width=\"100%\" x=\"0\" y=\"0px\"><defs /><text text-anchor=\"middle\" x=\"50%\" y=\"16px\">S</text></svg><svg width=\"40%\" x=\"0%\" y=\"48px\"><defs /><svg width=\"100%\" x=\"0\" y=\"0px\"><defs /><text text-anchor=\"middle\" x=\"50%\" y=\"16px\">NP</text></svg><svg width=\"50%\" x=\"0%\" y=\"48px\"><defs /><svg width=\"100%\" x=\"0\" y=\"0px\"><defs /><text text-anchor=\"middle\" x=\"50%\" y=\"16px\">JJ</text></svg><svg width=\"100%\" x=\"0%\" y=\"48px\"><defs /><svg width=\"100%\" x=\"0\" y=\"0px\"><defs /><text text-anchor=\"middle\" x=\"50%\" y=\"16px\">lazy</text></svg></svg><line stroke=\"black\" x1=\"50%\" x2=\"50%\" y1=\"20px\" y2=\"48px\" /></svg><line stroke=\"black\" x1=\"50%\" x2=\"25%\" y1=\"20px\" y2=\"48px\" /><svg width=\"50%\" x=\"50%\" y=\"48px\"><defs /><svg width=\"100%\" x=\"0\" y=\"0px\"><defs /><text text-anchor=\"middle\" x=\"50%\" y=\"16px\">NNS</text></svg><svg width=\"100%\" x=\"0%\" y=\"48px\"><defs /><svg width=\"100%\" x=\"0\" y=\"0px\"><defs /><text text-anchor=\"middle\" x=\"50%\" y=\"16px\">cats</text></svg></svg><line stroke=\"black\" x1=\"50%\" x2=\"50%\" y1=\"20px\" y2=\"48px\" /></svg><line stroke=\"black\" x1=\"50%\" x2=\"75%\" y1=\"20px\" y2=\"48px\" /></svg><line stroke=\"black\" x1=\"50%\" x2=\"20%\" y1=\"20px\" y2=\"48px\" /><svg width=\"60%\" x=\"40%\" y=\"48px\"><defs /><svg width=\"100%\" x=\"0\" y=\"0px\"><defs /><text text-anchor=\"middle\" x=\"50%\" y=\"16px\">VP</text></svg><svg width=\"33.3333%\" x=\"0%\" y=\"48px\"><defs /><svg width=\"100%\" x=\"0\" y=\"0px\"><defs /><text text-anchor=\"middle\" x=\"50%\" y=\"16px\">VT</text></svg><svg width=\"100%\" x=\"0%\" y=\"48px\"><defs /><svg width=\"100%\" x=\"0\" y=\"0px\"><defs /><text text-anchor=\"middle\" x=\"50%\" y=\"16px\">play</text></svg></svg><line stroke=\"black\" x1=\"50%\" x2=\"50%\" y1=\"20px\" y2=\"48px\" /></svg><line stroke=\"black\" x1=\"50%\" x2=\"16.6667%\" y1=\"20px\" y2=\"48px\" /><svg width=\"66.6667%\" x=\"33.3333%\" y=\"48px\"><defs /><svg width=\"100%\" x=\"0\" y=\"0px\"><defs /><text text-anchor=\"middle\" x=\"50%\" y=\"16px\">PP</text></svg><svg width=\"50%\" x=\"0%\" y=\"48px\"><defs /><svg width=\"100%\" x=\"0\" y=\"0px\"><defs /><text text-anchor=\"middle\" x=\"50%\" y=\"16px\">IN</text></svg><svg width=\"100%\" x=\"0%\" y=\"48px\"><defs /><svg width=\"100%\" x=\"0\" y=\"0px\"><defs /><text text-anchor=\"middle\" x=\"50%\" y=\"16px\">with</text></svg></svg><line stroke=\"black\" x1=\"50%\" x2=\"50%\" y1=\"20px\" y2=\"48px\" /></svg><line stroke=\"black\" x1=\"50%\" x2=\"25%\" y1=\"20px\" y2=\"48px\" /><svg width=\"50%\" x=\"50%\" y=\"48px\"><defs /><svg width=\"100%\" x=\"0\" y=\"0px\"><defs /><text text-anchor=\"middle\" x=\"50%\" y=\"16px\">NP</text></svg><svg width=\"100%\" x=\"0%\" y=\"48px\"><defs /><svg width=\"100%\" x=\"0\" y=\"0px\"><defs /><text text-anchor=\"middle\" x=\"50%\" y=\"16px\">NNS</text></svg><svg width=\"100%\" x=\"0%\" y=\"48px\"><defs /><svg width=\"100%\" x=\"0\" y=\"0px\"><defs /><text text-anchor=\"middle\" x=\"50%\" y=\"16px\">mice</text></svg></svg><line stroke=\"black\" x1=\"50%\" x2=\"50%\" y1=\"20px\" y2=\"48px\" /></svg><line stroke=\"black\" x1=\"50%\" x2=\"50%\" y1=\"20px\" y2=\"48px\" /></svg><line stroke=\"black\" x1=\"50%\" x2=\"75%\" y1=\"20px\" y2=\"48px\" /></svg><line stroke=\"black\" x1=\"50%\" x2=\"66.6667%\" y1=\"20px\" y2=\"48px\" /></svg><line stroke=\"black\" x1=\"50%\" x2=\"70%\" y1=\"20px\" y2=\"48px\" /></svg>"
          },
          "metadata": {},
          "execution_count": 15
        }
      ]
    },
    {
      "cell_type": "markdown",
      "source": [
        "### **LeftCornerChartParser**"
      ],
      "metadata": {
        "id": "Ptfqr_Un6mOQ"
      }
    },
    {
      "cell_type": "code",
      "source": [
        "parsed_sentence = create_results(left_corner_chart_parser_no_trace,left_corner_chart_parser_with_trace,sentence)"
      ],
      "metadata": {
        "colab": {
          "base_uri": "https://localhost:8080/"
        },
        "id": "rSHIGgcVg2hd",
        "outputId": "7a164206-4e01-44cb-b372-ae75fa3ebb8d"
      },
      "execution_count": null,
      "outputs": [
        {
          "output_type": "stream",
          "name": "stdout",
          "text": [
            "List of explored edges:\n",
            "\n",
            "|.  lazy .  cats .  play .  with .  mice .|\n",
            "|[-------]       .       .       .       .| [0:1] 'lazy'\n",
            "|.       [-------]       .       .       .| [1:2] 'cats'\n",
            "|.       .       [-------]       .       .| [2:3] 'play'\n",
            "|.       .       .       [-------]       .| [3:4] 'with'\n",
            "|.       .       .       .       [-------]| [4:5] 'mice'\n",
            "|[-------]       .       .       .       .| [0:1] JJ -> 'lazy' *\n",
            "|[------->       .       .       .       .| [0:1] NP -> JJ * NNS\n",
            "|.       [-------]       .       .       .| [1:2] NNS -> 'cats' *\n",
            "|.       [-------]       .       .       .| [1:2] NP -> NNS *\n",
            "|[---------------]       .       .       .| [0:2] NP -> JJ NNS *\n",
            "|[--------------->       .       .       .| [0:2] S  -> NP * VP\n",
            "|[---------------]       .       .       .| [0:2] S  -> NP *\n",
            "|.       [------->       .       .       .| [1:2] S  -> NP * VP\n",
            "|.       [-------]       .       .       .| [1:2] S  -> NP *\n",
            "|.       .       [-------]       .       .| [2:3] VT -> 'play' *\n",
            "|.       .       [------->       .       .| [2:3] VP -> VT * PP\n",
            "|.       .       .       [-------]       .| [3:4] IN -> 'with' *\n",
            "|.       .       .       [------->       .| [3:4] PP -> IN * NP\n",
            "|.       .       .       .       [-------]| [4:5] NNS -> 'mice' *\n",
            "|.       .       .       .       [-------]| [4:5] NP -> NNS *\n",
            "|.       .       .       .       [-------]| [4:5] S  -> NP *\n",
            "|.       .       .       [---------------]| [3:5] PP -> IN NP *\n",
            "|.       .       [-----------------------]| [2:5] VP -> VT PP *\n",
            "|[=======================================]| [0:5] S  -> NP VP *\n",
            "|.       [-------------------------------]| [1:5] S  -> NP VP *\n",
            "Number of edges = 25\n"
          ]
        }
      ]
    },
    {
      "cell_type": "code",
      "source": [
        "print(\"Resulting Tree:\\n\")\n",
        "svgling.draw_tree(list(parsed_sentence)[0])"
      ],
      "metadata": {
        "colab": {
          "base_uri": "https://localhost:8080/",
          "height": 316
        },
        "id": "kEXFduXY6qYJ",
        "outputId": "db91f094-601d-486f-9619-6bed52c9505d"
      },
      "execution_count": null,
      "outputs": [
        {
          "output_type": "stream",
          "name": "stdout",
          "text": [
            "Resulting Tree:\n",
            "\n"
          ]
        },
        {
          "output_type": "execute_result",
          "data": {
            "text/plain": [
              "TreeLayout(Tree('S', [Tree('NP', [Tree('JJ', ['lazy']), Tree('NNS', ['cats'])]), Tree('VP', [Tree('VT', ['play']), Tree('PP', [Tree('IN', ['with']), Tree('NP', [Tree('NNS', ['mice'])])])])]))"
            ],
            "image/svg+xml": "<svg baseProfile=\"full\" height=\"264px\" preserveAspectRatio=\"xMidYMid meet\" style=\"font-family: times, serif; font-weight: normal; font-style: normal; font-size: 16px\" version=\"1.1\" viewBox=\"0,0,240.0,264.0\" width=\"240px\" xmlns=\"http://www.w3.org/2000/svg\" xmlns:ev=\"http://www.w3.org/2001/xml-events\" xmlns:xlink=\"http://www.w3.org/1999/xlink\"><defs /><svg width=\"100%\" x=\"0\" y=\"0px\"><defs /><text text-anchor=\"middle\" x=\"50%\" y=\"16px\">S</text></svg><svg width=\"40%\" x=\"0%\" y=\"48px\"><defs /><svg width=\"100%\" x=\"0\" y=\"0px\"><defs /><text text-anchor=\"middle\" x=\"50%\" y=\"16px\">NP</text></svg><svg width=\"50%\" x=\"0%\" y=\"48px\"><defs /><svg width=\"100%\" x=\"0\" y=\"0px\"><defs /><text text-anchor=\"middle\" x=\"50%\" y=\"16px\">JJ</text></svg><svg width=\"100%\" x=\"0%\" y=\"48px\"><defs /><svg width=\"100%\" x=\"0\" y=\"0px\"><defs /><text text-anchor=\"middle\" x=\"50%\" y=\"16px\">lazy</text></svg></svg><line stroke=\"black\" x1=\"50%\" x2=\"50%\" y1=\"20px\" y2=\"48px\" /></svg><line stroke=\"black\" x1=\"50%\" x2=\"25%\" y1=\"20px\" y2=\"48px\" /><svg width=\"50%\" x=\"50%\" y=\"48px\"><defs /><svg width=\"100%\" x=\"0\" y=\"0px\"><defs /><text text-anchor=\"middle\" x=\"50%\" y=\"16px\">NNS</text></svg><svg width=\"100%\" x=\"0%\" y=\"48px\"><defs /><svg width=\"100%\" x=\"0\" y=\"0px\"><defs /><text text-anchor=\"middle\" x=\"50%\" y=\"16px\">cats</text></svg></svg><line stroke=\"black\" x1=\"50%\" x2=\"50%\" y1=\"20px\" y2=\"48px\" /></svg><line stroke=\"black\" x1=\"50%\" x2=\"75%\" y1=\"20px\" y2=\"48px\" /></svg><line stroke=\"black\" x1=\"50%\" x2=\"20%\" y1=\"20px\" y2=\"48px\" /><svg width=\"60%\" x=\"40%\" y=\"48px\"><defs /><svg width=\"100%\" x=\"0\" y=\"0px\"><defs /><text text-anchor=\"middle\" x=\"50%\" y=\"16px\">VP</text></svg><svg width=\"33.3333%\" x=\"0%\" y=\"48px\"><defs /><svg width=\"100%\" x=\"0\" y=\"0px\"><defs /><text text-anchor=\"middle\" x=\"50%\" y=\"16px\">VT</text></svg><svg width=\"100%\" x=\"0%\" y=\"48px\"><defs /><svg width=\"100%\" x=\"0\" y=\"0px\"><defs /><text text-anchor=\"middle\" x=\"50%\" y=\"16px\">play</text></svg></svg><line stroke=\"black\" x1=\"50%\" x2=\"50%\" y1=\"20px\" y2=\"48px\" /></svg><line stroke=\"black\" x1=\"50%\" x2=\"16.6667%\" y1=\"20px\" y2=\"48px\" /><svg width=\"66.6667%\" x=\"33.3333%\" y=\"48px\"><defs /><svg width=\"100%\" x=\"0\" y=\"0px\"><defs /><text text-anchor=\"middle\" x=\"50%\" y=\"16px\">PP</text></svg><svg width=\"50%\" x=\"0%\" y=\"48px\"><defs /><svg width=\"100%\" x=\"0\" y=\"0px\"><defs /><text text-anchor=\"middle\" x=\"50%\" y=\"16px\">IN</text></svg><svg width=\"100%\" x=\"0%\" y=\"48px\"><defs /><svg width=\"100%\" x=\"0\" y=\"0px\"><defs /><text text-anchor=\"middle\" x=\"50%\" y=\"16px\">with</text></svg></svg><line stroke=\"black\" x1=\"50%\" x2=\"50%\" y1=\"20px\" y2=\"48px\" /></svg><line stroke=\"black\" x1=\"50%\" x2=\"25%\" y1=\"20px\" y2=\"48px\" /><svg width=\"50%\" x=\"50%\" y=\"48px\"><defs /><svg width=\"100%\" x=\"0\" y=\"0px\"><defs /><text text-anchor=\"middle\" x=\"50%\" y=\"16px\">NP</text></svg><svg width=\"100%\" x=\"0%\" y=\"48px\"><defs /><svg width=\"100%\" x=\"0\" y=\"0px\"><defs /><text text-anchor=\"middle\" x=\"50%\" y=\"16px\">NNS</text></svg><svg width=\"100%\" x=\"0%\" y=\"48px\"><defs /><svg width=\"100%\" x=\"0\" y=\"0px\"><defs /><text text-anchor=\"middle\" x=\"50%\" y=\"16px\">mice</text></svg></svg><line stroke=\"black\" x1=\"50%\" x2=\"50%\" y1=\"20px\" y2=\"48px\" /></svg><line stroke=\"black\" x1=\"50%\" x2=\"50%\" y1=\"20px\" y2=\"48px\" /></svg><line stroke=\"black\" x1=\"50%\" x2=\"75%\" y1=\"20px\" y2=\"48px\" /></svg><line stroke=\"black\" x1=\"50%\" x2=\"66.6667%\" y1=\"20px\" y2=\"48px\" /></svg><line stroke=\"black\" x1=\"50%\" x2=\"70%\" y1=\"20px\" y2=\"48px\" /></svg>"
          },
          "metadata": {},
          "execution_count": 17
        }
      ]
    },
    {
      "cell_type": "markdown",
      "source": [
        "## **Analysis and Conclusions**\n",
        "\n"
      ],
      "metadata": {
        "id": "BbE_AgbNEWjg"
      }
    },
    {
      "cell_type": "markdown",
      "source": [
        "\n",
        "\n",
        "*   Chart Parser - 31 nodes generated\n",
        "*   Bottom Up Chart Parser - 52 nodes generated\n",
        "*   Bottom Up Left Corner Chart Parser - 31 nodes generated\n",
        "*   Left Corner Chart Parser - 25 nodes generated\n",
        "\n",
        "\n",
        "From the experiments done all the resulting trees are accurate based on our sentence, but we can observe that the number of nodes generated changes for each of them because of the way that they explore the edges while parsing.\n",
        "\n",
        "The most efficent parser for this sentence is the ***Left Corner Chart Parser***, as it generates the fewest nodes, 25. Since it uses both bottom-up and top-down recognition, while also using the left corner of production rules, results in minimizing the unnecessary explorations of edges. This makes it particularly well-suited for grammars with recursive or ambiguous rules.\n",
        "\n",
        "***Bottom Up Chart Parser*** is the least efficient parser in this comparison, generating the highest number of nodes. This happens because this approach can waste resources exploring irrelevant derivations, especially for grammars with many rules.\n",
        "\n",
        "\n",
        "While the ***Chart Parser*** and ***BottomUpLeftCornerChartParser*** generates the same number of nodes, performing reasonably well.\n",
        "\n",
        "***Chart Parser*** tends to filter redundent edges that will not be usefull for the given edge, as the parser tries to only explore potential and successful edges that can  contribute to the final tree.\n",
        "\n",
        "***BottomUpChartParser*** mostly does not filter any edges, as it looks for all posible edges starting from the bottom, that is why it explored the maximum number of edges compared to the other strategies.\n",
        "\n",
        "***BottomUpLeftCornerChartParser*** also parses starting from bottom, but it also takes into account the left-corner contraints, eliminating unneceseray explorations, hence it filters out the edges not consistent with the left-corner contraints.\n",
        "\n",
        "***Left Corner Chart Parser*** uses both bottom-up and top-down recognition, while also using the left corner of production rules, and it filters the edge if it does not subsume new words.\n",
        "\n",
        "\n",
        "## Final Conclusion\n",
        "It is important to state that none of the parsers are inherently incorrect or inefficient, rather, each operates differently and should be chosen based on the specific requirements of the task to achieve optimal results. Additionally, our comparison was limited to a single sentence, and a comprehensive analysis involving a wider range of sentences would be necessary to draw more definitive conclusions. Despite this limitation, the Left Corner Chart Parser appears to be the preferable choice due to its demonstrated efficiency. However, selecting the most suitable parser ultimately depends on the broader context and specific parsing needs.\n",
        "\n",
        "\n",
        "\n"
      ],
      "metadata": {
        "id": "i0PTUGbQBm8D"
      }
    }
  ]
}